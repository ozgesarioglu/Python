{
 "cells": [
  {
   "cell_type": "code",
   "execution_count": 2,
   "id": "1d303d2f",
   "metadata": {},
   "outputs": [],
   "source": [
    "def toplama(num1, num2):\n",
    "    return num1+ num2"
   ]
  },
  {
   "cell_type": "code",
   "execution_count": 3,
   "id": "020d8b13",
   "metadata": {},
   "outputs": [
    {
     "name": "stdout",
     "output_type": "stream",
     "text": [
      "İlk numarayı giriniz: 10\n",
      "İkinci numarayı giriniz: 20\n"
     ]
    },
    {
     "data": {
      "text/plain": [
       "30"
      ]
     },
     "execution_count": 3,
     "metadata": {},
     "output_type": "execute_result"
    }
   ],
   "source": [
    "a = int(input(\"İlk numarayı giriniz: \"))\n",
    "b = int(input(\"İkinci numarayı giriniz: \"))\n",
    "toplama(a, b)"
   ]
  },
  {
   "cell_type": "code",
   "execution_count": null,
   "id": "27545ae9",
   "metadata": {},
   "outputs": [],
   "source": []
  },
  {
   "cell_type": "markdown",
   "id": "f166df9b",
   "metadata": {},
   "source": [
    "## try & except & else & finally"
   ]
  },
  {
   "cell_type": "code",
   "execution_count": 4,
   "id": "d990623a",
   "metadata": {},
   "outputs": [
    {
     "name": "stdout",
     "output_type": "stream",
     "text": [
      "İlk numarayı giriniz: 10\n",
      "İkinci numarayı giriniz: 20\n",
      "30\n"
     ]
    }
   ],
   "source": [
    "try:\n",
    "    a = int(input(\"İlk numarayı giriniz: \"))\n",
    "    b = int(input(\"İkinci numarayı giriniz: \"))\n",
    "    print(toplama(a, b))\n",
    "except:\n",
    "    print(\"Lütfen doğru bir numara giriniz.\")"
   ]
  },
  {
   "cell_type": "code",
   "execution_count": null,
   "id": "a8cf370a",
   "metadata": {},
   "outputs": [],
   "source": []
  },
  {
   "cell_type": "code",
   "execution_count": null,
   "id": "50f32828",
   "metadata": {},
   "outputs": [],
   "source": [
    "try:\n",
    "    yeniInt = int(input(\"Numaranızı giriniz: \"))\n",
    "except:                        \n",
    "    print(\"Sanırsam yanlış numara girildi\")\n",
    "else:                          # Eğer bir exception yoksa çağırılıyor\n",
    "    print(\"Teşekkürler\")\n",
    "finally:                       # Her zaman çağırılıyor\n",
    "    print(\"Finally çağırıldı\")"
   ]
  },
  {
   "cell_type": "code",
   "execution_count": null,
   "id": "32865d46",
   "metadata": {},
   "outputs": [],
   "source": []
  },
  {
   "cell_type": "code",
   "execution_count": null,
   "id": "3920f2d4",
   "metadata": {},
   "outputs": [],
   "source": [
    "while True:\n",
    "    try:\n",
    "        yeniInt = int(input(\"Numaranızı giriniz: \"))\n",
    "    except:                        \n",
    "        print(\"Sanırsam yanlış numara girildi\")\n",
    "        continue\n",
    "    else:                          \n",
    "        print(\"Teşekkürler\")\n",
    "        break\n",
    "    finally:                       \n",
    "        print(\"Finally çağırıldı\")\n"
   ]
  },
  {
   "cell_type": "code",
   "execution_count": null,
   "id": "66cea07e",
   "metadata": {},
   "outputs": [],
   "source": []
  },
  {
   "cell_type": "code",
   "execution_count": null,
   "id": "224cf1b2",
   "metadata": {},
   "outputs": [],
   "source": []
  }
 ],
 "metadata": {
  "kernelspec": {
   "display_name": "Python 3 (ipykernel)",
   "language": "python",
   "name": "python3"
  },
  "language_info": {
   "codemirror_mode": {
    "name": "ipython",
    "version": 3
   },
   "file_extension": ".py",
   "mimetype": "text/x-python",
   "name": "python",
   "nbconvert_exporter": "python",
   "pygments_lexer": "ipython3",
   "version": "3.9.7"
  }
 },
 "nbformat": 4,
 "nbformat_minor": 5
}
