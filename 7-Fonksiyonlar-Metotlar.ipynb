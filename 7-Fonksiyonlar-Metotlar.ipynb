{
 "cells": [
  {
   "cell_type": "markdown",
   "id": "5a80e7f9",
   "metadata": {},
   "source": [
    "Sınıf içindeki fonksiyonlara metot denilebilir"
   ]
  },
  {
   "cell_type": "code",
   "execution_count": null,
   "id": "ba83dc8e",
   "metadata": {},
   "outputs": [],
   "source": []
  },
  {
   "cell_type": "raw",
   "id": "df79bfa4",
   "metadata": {},
   "source": []
  },
  {
   "cell_type": "code",
   "execution_count": 1,
   "id": "60faebe8",
   "metadata": {},
   "outputs": [],
   "source": [
    "benimString = \"özge sarıoğlu\""
   ]
  },
  {
   "cell_type": "code",
   "execution_count": 2,
   "id": "e3aa24d6",
   "metadata": {},
   "outputs": [
    {
     "data": {
      "text/plain": [
       "'Özge sarıoğlu'"
      ]
     },
     "execution_count": 2,
     "metadata": {},
     "output_type": "execute_result"
    }
   ],
   "source": [
    "benimString.capitalize()"
   ]
  },
  {
   "cell_type": "code",
   "execution_count": 3,
   "id": "a96e911a",
   "metadata": {},
   "outputs": [
    {
     "data": {
      "text/plain": [
       "'ÖZGE SARIOĞLU'"
      ]
     },
     "execution_count": 3,
     "metadata": {},
     "output_type": "execute_result"
    }
   ],
   "source": [
    "benimString.upper()"
   ]
  },
  {
   "cell_type": "code",
   "execution_count": 4,
   "id": "673facad",
   "metadata": {},
   "outputs": [
    {
     "data": {
      "text/plain": [
       "'özge sarıoğlu'"
      ]
     },
     "execution_count": 4,
     "metadata": {},
     "output_type": "execute_result"
    }
   ],
   "source": [
    "benimString"
   ]
  },
  {
   "cell_type": "code",
   "execution_count": 5,
   "id": "9c5473b8",
   "metadata": {},
   "outputs": [
    {
     "data": {
      "text/plain": [
       "'ÖZGE SARIOĞLU'"
      ]
     },
     "execution_count": 5,
     "metadata": {},
     "output_type": "execute_result"
    }
   ],
   "source": [
    "buyukharf = benimString.upper()\n",
    "buyukharf"
   ]
  },
  {
   "cell_type": "code",
   "execution_count": 6,
   "id": "bd0c99b8",
   "metadata": {},
   "outputs": [],
   "source": [
    "# Not: Klavye kısayollarına klavyeden h'ye basarak gidebiliriz."
   ]
  },
  {
   "cell_type": "code",
   "execution_count": 7,
   "id": "524e236e",
   "metadata": {},
   "outputs": [
    {
     "name": "stdout",
     "output_type": "stream",
     "text": [
      "Help on built-in function upper:\n",
      "\n",
      "upper() method of builtins.str instance\n",
      "    Return a copy of the string converted to uppercase.\n",
      "\n"
     ]
    }
   ],
   "source": [
    "help(benimString.upper)   # Eğer upper() bu şekilde yazsaydık çalıştır manasına gelirdi"
   ]
  },
  {
   "cell_type": "code",
   "execution_count": null,
   "id": "9cbb18ed",
   "metadata": {},
   "outputs": [],
   "source": []
  },
  {
   "cell_type": "code",
   "execution_count": 8,
   "id": "8ae6cf26",
   "metadata": {},
   "outputs": [],
   "source": [
    "# Fonksiyon, bir veya birden fazla satırdan oluşan kod bloklarıdır.\n",
    "# Girdi alabilir\n",
    "# Çıktı verebilir\n",
    "# Daha sonra kullanılabilir"
   ]
  },
  {
   "cell_type": "code",
   "execution_count": 9,
   "id": "b9b8c806",
   "metadata": {},
   "outputs": [],
   "source": [
    "def  fonksiyon():                    # fonk. tanımlaması\n",
    "    x = 5\n",
    "    x = x+1\n",
    "    print(f\"x'in güncel değeri: {x}\")\n",
    "    "
   ]
  },
  {
   "cell_type": "code",
   "execution_count": 10,
   "id": "3cb463eb",
   "metadata": {},
   "outputs": [
    {
     "name": "stdout",
     "output_type": "stream",
     "text": [
      "x'in güncel değeri: 6\n"
     ]
    }
   ],
   "source": [
    "fonksiyon()"
   ]
  },
  {
   "cell_type": "code",
   "execution_count": null,
   "id": "b09bcd84",
   "metadata": {},
   "outputs": [],
   "source": []
  },
  {
   "cell_type": "markdown",
   "id": "a09b7ca2",
   "metadata": {},
   "source": [
    "### input & return İşlemleri"
   ]
  },
  {
   "cell_type": "code",
   "execution_count": 1,
   "id": "105720a8",
   "metadata": {},
   "outputs": [],
   "source": [
    "def merhabaDunya():\n",
    "    isim = input(\"Lütfen isminizi giriniz.\")\n",
    "    print(f\"Merhaba {isim}\")"
   ]
  },
  {
   "cell_type": "code",
   "execution_count": 2,
   "id": "ddcc16f2",
   "metadata": {},
   "outputs": [
    {
     "name": "stdout",
     "output_type": "stream",
     "text": [
      "Lütfen isminizi giriniz.özg\n",
      "Merhaba özg\n"
     ]
    }
   ],
   "source": [
    "merhabaDunya()"
   ]
  },
  {
   "cell_type": "code",
   "execution_count": 13,
   "id": "d99bb226",
   "metadata": {},
   "outputs": [],
   "source": [
    "# ya da en basit haliyle"
   ]
  },
  {
   "cell_type": "code",
   "execution_count": 14,
   "id": "6554a09c",
   "metadata": {},
   "outputs": [],
   "source": [
    "def merhabaSoyle(isim):\n",
    "    print(f\"Merhaba {isim}\")"
   ]
  },
  {
   "cell_type": "code",
   "execution_count": 15,
   "id": "2595020a",
   "metadata": {},
   "outputs": [
    {
     "name": "stdout",
     "output_type": "stream",
     "text": [
      "Merhaba Özge\n"
     ]
    }
   ],
   "source": [
    "merhabaSoyle(\"Özge\")"
   ]
  },
  {
   "cell_type": "code",
   "execution_count": null,
   "id": "03a682e4",
   "metadata": {},
   "outputs": [],
   "source": []
  },
  {
   "cell_type": "code",
   "execution_count": 16,
   "id": "1ed8a996",
   "metadata": {},
   "outputs": [],
   "source": [
    "def alternatifMerhaba(isim = \"python\"):      # default değer girdik\n",
    "    print(f\"Merhaba {isim}\")"
   ]
  },
  {
   "cell_type": "code",
   "execution_count": 17,
   "id": "3b55c3e8",
   "metadata": {},
   "outputs": [
    {
     "name": "stdout",
     "output_type": "stream",
     "text": [
      "Merhaba dvkjkx\n"
     ]
    }
   ],
   "source": [
    "alternatifMerhaba(\"dvkjkx\") # Eğer içerisine değer girilirse defaultu almaz"
   ]
  },
  {
   "cell_type": "code",
   "execution_count": null,
   "id": "4578c539",
   "metadata": {},
   "outputs": [],
   "source": []
  },
  {
   "cell_type": "code",
   "execution_count": 18,
   "id": "746441ac",
   "metadata": {},
   "outputs": [],
   "source": [
    "def toplama(num1,num2):\n",
    "    sonuc =num1+num2\n",
    "    print(sonuc)"
   ]
  },
  {
   "cell_type": "code",
   "execution_count": 19,
   "id": "06f9adc2",
   "metadata": {},
   "outputs": [
    {
     "name": "stdout",
     "output_type": "stream",
     "text": [
      "490\n"
     ]
    }
   ],
   "source": [
    "toplama(-110,600)"
   ]
  },
  {
   "cell_type": "code",
   "execution_count": null,
   "id": "7470e99c",
   "metadata": {},
   "outputs": [],
   "source": []
  },
  {
   "cell_type": "code",
   "execution_count": 20,
   "id": "9e43d62a",
   "metadata": {},
   "outputs": [],
   "source": [
    "def uclu(num1,num2,num3):\n",
    "    print(num1+num2+num3)"
   ]
  },
  {
   "cell_type": "code",
   "execution_count": 21,
   "id": "f2d738d6",
   "metadata": {},
   "outputs": [
    {
     "name": "stdout",
     "output_type": "stream",
     "text": [
      "1678\n"
     ]
    }
   ],
   "source": [
    "uclu(51,685,942)"
   ]
  },
  {
   "cell_type": "code",
   "execution_count": 22,
   "id": "b08ad49f",
   "metadata": {},
   "outputs": [
    {
     "name": "stdout",
     "output_type": "stream",
     "text": [
      "60\n"
     ]
    }
   ],
   "source": [
    "sonuc = uclu(10,20,30)"
   ]
  },
  {
   "cell_type": "code",
   "execution_count": 23,
   "id": "1cb2c353",
   "metadata": {},
   "outputs": [
    {
     "name": "stdout",
     "output_type": "stream",
     "text": [
      "None\n"
     ]
    }
   ],
   "source": [
    "print(sonuc)"
   ]
  },
  {
   "cell_type": "code",
   "execution_count": 24,
   "id": "e92d4a3f",
   "metadata": {},
   "outputs": [
    {
     "data": {
      "text/plain": [
       "NoneType"
      ]
     },
     "execution_count": 24,
     "metadata": {},
     "output_type": "execute_result"
    }
   ],
   "source": [
    "type(sonuc)                            # none hiçlik demektir"
   ]
  },
  {
   "cell_type": "code",
   "execution_count": null,
   "id": "3bf8f2d6",
   "metadata": {},
   "outputs": [],
   "source": []
  },
  {
   "cell_type": "code",
   "execution_count": 31,
   "id": "4f8c6f43",
   "metadata": {},
   "outputs": [],
   "source": [
    "def degerDondurenToplama(num1,num2):\n",
    "    print(num1+num2)\n",
    "    return num1+num2                   # return, genelde en sonda olur"
   ]
  },
  {
   "cell_type": "code",
   "execution_count": 32,
   "id": "0109c435",
   "metadata": {},
   "outputs": [
    {
     "name": "stdout",
     "output_type": "stream",
     "text": [
      "70\n"
     ]
    }
   ],
   "source": [
    "y = degerDondurenToplama(20,50)"
   ]
  },
  {
   "cell_type": "code",
   "execution_count": 33,
   "id": "22d6d72f",
   "metadata": {},
   "outputs": [
    {
     "data": {
      "text/plain": [
       "int"
      ]
     },
     "execution_count": 33,
     "metadata": {},
     "output_type": "execute_result"
    }
   ],
   "source": [
    "type(y)"
   ]
  },
  {
   "cell_type": "code",
   "execution_count": null,
   "id": "d5ddf7ae",
   "metadata": {},
   "outputs": [],
   "source": []
  },
  {
   "cell_type": "code",
   "execution_count": 35,
   "id": "3a05b1d0",
   "metadata": {},
   "outputs": [],
   "source": [
    "def stringKontrolFonksiyonu(s):\n",
    "    if s == \"python\":\n",
    "        return \"python kelimesini vermişsiniz\"\n",
    "    elif s == \"ruby\":\n",
    "        return \"ruby kelimesini vermişsiniz\"\n",
    "    else:\n",
    "        return \"python veruby veermemişsiniz\""
   ]
  },
  {
   "cell_type": "code",
   "execution_count": 36,
   "id": "6d8688be",
   "metadata": {},
   "outputs": [
    {
     "data": {
      "text/plain": [
       "'python kelimesini vermişsiniz'"
      ]
     },
     "execution_count": 36,
     "metadata": {},
     "output_type": "execute_result"
    }
   ],
   "source": [
    "stringKontrolFonksiyonu(\"python\")"
   ]
  },
  {
   "cell_type": "code",
   "execution_count": 43,
   "id": "1d9bf385",
   "metadata": {},
   "outputs": [
    {
     "data": {
      "text/plain": [
       "'ruby kelimesini vermişsiniz'"
      ]
     },
     "execution_count": 43,
     "metadata": {},
     "output_type": "execute_result"
    }
   ],
   "source": [
    "sonuc = stringKontrolFonksiyonu(\"ruby\")\n",
    "sonuc"
   ]
  },
  {
   "cell_type": "code",
   "execution_count": null,
   "id": "cf3b8012",
   "metadata": {},
   "outputs": [],
   "source": []
  },
  {
   "cell_type": "code",
   "execution_count": 45,
   "id": "3b469219",
   "metadata": {},
   "outputs": [],
   "source": [
    "# args, kwargs\n",
    "# Birden fazla parametreyi alıp işlem yapmamıza olanak tanıyor. \n",
    "# Kaç tane aldığımız ile ilgilenmiyor"
   ]
  },
  {
   "cell_type": "code",
   "execution_count": 47,
   "id": "2189e457",
   "metadata": {},
   "outputs": [],
   "source": [
    "def sonsuzToplama(*args):     # argüman verilecek ancak kaç tane olduğunu bilmiyoruz\n",
    "    return sum(args)          # Yani kaç tane argüman vereceğimizi seçmek istemiyorsak bunu kullanabilriz."
   ]
  },
  {
   "cell_type": "code",
   "execution_count": 48,
   "id": "20dd881c",
   "metadata": {},
   "outputs": [
    {
     "data": {
      "text/plain": [
       "1158"
      ]
     },
     "execution_count": 48,
     "metadata": {},
     "output_type": "execute_result"
    }
   ],
   "source": [
    "sonsuzToplama(10,54,986,56,4,3,5,-5,45)"
   ]
  },
  {
   "cell_type": "code",
   "execution_count": 49,
   "id": "7cc33618",
   "metadata": {},
   "outputs": [
    {
     "data": {
      "text/plain": [
       "163"
      ]
     },
     "execution_count": 49,
     "metadata": {},
     "output_type": "execute_result"
    }
   ],
   "source": [
    "sonsuzToplama(98,65)"
   ]
  },
  {
   "cell_type": "code",
   "execution_count": null,
   "id": "6232eb9d",
   "metadata": {},
   "outputs": [],
   "source": []
  },
  {
   "cell_type": "code",
   "execution_count": 51,
   "id": "221f60c1",
   "metadata": {},
   "outputs": [],
   "source": [
    "def keyWordFonksiyonu(**kwargs):         # Bir sözlük vermek için kullanılıyor\n",
    "    return(kwargs)"
   ]
  },
  {
   "cell_type": "code",
   "execution_count": 52,
   "id": "9e76e4e3",
   "metadata": {},
   "outputs": [
    {
     "data": {
      "text/plain": [
       "{'muz': 100, 'elma': 200, 'karpuz': 300}"
      ]
     },
     "execution_count": 52,
     "metadata": {},
     "output_type": "execute_result"
    }
   ],
   "source": [
    "keyWordFonksiyonu(muz=100, elma=200, karpuz=300)       # Kendiliğinden sözlüğe çevirdi"
   ]
  },
  {
   "cell_type": "code",
   "execution_count": 58,
   "id": "78e520bd",
   "metadata": {},
   "outputs": [
    {
     "data": {
      "text/plain": [
       "dict"
      ]
     },
     "execution_count": 58,
     "metadata": {},
     "output_type": "execute_result"
    }
   ],
   "source": [
    "#Emin olalım sözlük mü çeviriyor?\n",
    "type(keyWordFonksiyonu(muz=100, elma=200, karpuz=300))     # Yessss, dict"
   ]
  },
  {
   "cell_type": "code",
   "execution_count": null,
   "id": "a416cd80",
   "metadata": {},
   "outputs": [],
   "source": []
  },
  {
   "cell_type": "code",
   "execution_count": 59,
   "id": "196087b1",
   "metadata": {},
   "outputs": [],
   "source": [
    "def kontrolKeyword(**kwargs):\n",
    "    if \"python\" in kwargs:\n",
    "        print(\"Python key olarak verilmiştir\")\n",
    "    else:\n",
    "        print(\"Pthon key'ler içerisinde yoktur\")"
   ]
  },
  {
   "cell_type": "code",
   "execution_count": 60,
   "id": "cb0f945f",
   "metadata": {},
   "outputs": [
    {
     "name": "stdout",
     "output_type": "stream",
     "text": [
      "Python key olarak verilmiştir\n"
     ]
    }
   ],
   "source": [
    "kontrolKeyword(java=4, python=10, kotlin=10, swift=9)"
   ]
  },
  {
   "cell_type": "code",
   "execution_count": 61,
   "id": "a36dd2b6",
   "metadata": {},
   "outputs": [
    {
     "name": "stdout",
     "output_type": "stream",
     "text": [
      "Pthon key'ler içerisinde yoktur\n"
     ]
    }
   ],
   "source": [
    "kontrolKeyword(java=4, kotlin=10, swift=9)"
   ]
  },
  {
   "cell_type": "code",
   "execution_count": null,
   "id": "82190d91",
   "metadata": {},
   "outputs": [],
   "source": []
  }
 ],
 "metadata": {
  "kernelspec": {
   "display_name": "Python 3 (ipykernel)",
   "language": "python",
   "name": "python3"
  },
  "language_info": {
   "codemirror_mode": {
    "name": "ipython",
    "version": 3
   },
   "file_extension": ".py",
   "mimetype": "text/x-python",
   "name": "python",
   "nbconvert_exporter": "python",
   "pygments_lexer": "ipython3",
   "version": "3.9.7"
  }
 },
 "nbformat": 4,
 "nbformat_minor": 5
}
