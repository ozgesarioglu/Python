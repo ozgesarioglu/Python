{
 "cells": [
  {
   "cell_type": "markdown",
   "id": "486e92bc",
   "metadata": {},
   "source": [
    "# Boolean - True/False"
   ]
  },
  {
   "cell_type": "markdown",
   "id": "68fc83c5",
   "metadata": {},
   "source": [
    "Genel olarak kontrol amaçlı kullanılır"
   ]
  },
  {
   "cell_type": "code",
   "execution_count": 3,
   "id": "64099e73",
   "metadata": {},
   "outputs": [],
   "source": [
    "x = True"
   ]
  },
  {
   "cell_type": "code",
   "execution_count": 4,
   "id": "af3e3f47",
   "metadata": {},
   "outputs": [
    {
     "data": {
      "text/plain": [
       "bool"
      ]
     },
     "execution_count": 4,
     "metadata": {},
     "output_type": "execute_result"
    }
   ],
   "source": [
    "type(x)"
   ]
  },
  {
   "cell_type": "code",
   "execution_count": 5,
   "id": "655c8a01",
   "metadata": {},
   "outputs": [],
   "source": [
    "x = \"özge\""
   ]
  },
  {
   "cell_type": "code",
   "execution_count": 7,
   "id": "a8b85538",
   "metadata": {},
   "outputs": [
    {
     "data": {
      "text/plain": [
       "True"
      ]
     },
     "execution_count": 7,
     "metadata": {},
     "output_type": "execute_result"
    }
   ],
   "source": [
    "x.islower()    # harfler küçük mü? Boolean döndürür."
   ]
  },
  {
   "cell_type": "code",
   "execution_count": null,
   "id": "09fa39ce",
   "metadata": {},
   "outputs": [],
   "source": []
  },
  {
   "cell_type": "code",
   "execution_count": 8,
   "id": "75012512",
   "metadata": {},
   "outputs": [
    {
     "data": {
      "text/plain": [
       "False"
      ]
     },
     "execution_count": 8,
     "metadata": {},
     "output_type": "execute_result"
    }
   ],
   "source": [
    "3<2"
   ]
  },
  {
   "cell_type": "code",
   "execution_count": 18,
   "id": "ca8592b5",
   "metadata": {},
   "outputs": [
    {
     "data": {
      "text/plain": [
       "True"
      ]
     },
     "execution_count": 18,
     "metadata": {},
     "output_type": "execute_result"
    }
   ],
   "source": [
    "5<=6"
   ]
  },
  {
   "cell_type": "code",
   "execution_count": 19,
   "id": "569a43f3",
   "metadata": {},
   "outputs": [
    {
     "data": {
      "text/plain": [
       "True"
      ]
     },
     "execution_count": 19,
     "metadata": {},
     "output_type": "execute_result"
    }
   ],
   "source": [
    "5 == 5      # Kontrol amaçlı == kulanılır."
   ]
  },
  {
   "cell_type": "code",
   "execution_count": null,
   "id": "59445d04",
   "metadata": {},
   "outputs": [],
   "source": []
  },
  {
   "cell_type": "code",
   "execution_count": 9,
   "id": "da31c824",
   "metadata": {},
   "outputs": [],
   "source": [
    "notListesi = [100,90,50,40,60,70,10]"
   ]
  },
  {
   "cell_type": "code",
   "execution_count": 10,
   "id": "d87452eb",
   "metadata": {},
   "outputs": [
    {
     "data": {
      "text/plain": [
       "7"
      ]
     },
     "execution_count": 10,
     "metadata": {},
     "output_type": "execute_result"
    }
   ],
   "source": [
    "len(notListesi)"
   ]
  },
  {
   "cell_type": "code",
   "execution_count": 11,
   "id": "22da4eaa",
   "metadata": {},
   "outputs": [
    {
     "data": {
      "text/plain": [
       "420"
      ]
     },
     "execution_count": 11,
     "metadata": {},
     "output_type": "execute_result"
    }
   ],
   "source": [
    "sum(notListesi)"
   ]
  },
  {
   "cell_type": "code",
   "execution_count": 13,
   "id": "9f4c073a",
   "metadata": {},
   "outputs": [
    {
     "data": {
      "text/plain": [
       "60.0"
      ]
     },
     "execution_count": 13,
     "metadata": {},
     "output_type": "execute_result"
    }
   ],
   "source": [
    "ortalama = sum(notListesi) / len(notListesi)\n",
    "ortalama"
   ]
  },
  {
   "cell_type": "code",
   "execution_count": 14,
   "id": "94be1b36",
   "metadata": {},
   "outputs": [
    {
     "data": {
      "text/plain": [
       "False"
      ]
     },
     "execution_count": 14,
     "metadata": {},
     "output_type": "execute_result"
    }
   ],
   "source": [
    "notListesi[3] > ortalama"
   ]
  },
  {
   "cell_type": "code",
   "execution_count": null,
   "id": "aa7b83f1",
   "metadata": {},
   "outputs": [],
   "source": []
  },
  {
   "cell_type": "code",
   "execution_count": 15,
   "id": "dd3ede77",
   "metadata": {},
   "outputs": [
    {
     "name": "stdout",
     "output_type": "stream",
     "text": [
      "Yaşınızı giriniz: 16\n"
     ]
    }
   ],
   "source": [
    "kullaniciYasi = input(\"Yaşınızı giriniz: \")"
   ]
  },
  {
   "cell_type": "code",
   "execution_count": 16,
   "id": "093166f3",
   "metadata": {},
   "outputs": [
    {
     "data": {
      "text/plain": [
       "True"
      ]
     },
     "execution_count": 16,
     "metadata": {},
     "output_type": "execute_result"
    }
   ],
   "source": [
    "int(kullaniciYasi) > 15"
   ]
  },
  {
   "cell_type": "code",
   "execution_count": null,
   "id": "e094ce7b",
   "metadata": {},
   "outputs": [],
   "source": []
  },
  {
   "cell_type": "code",
   "execution_count": 20,
   "id": "71e2407b",
   "metadata": {},
   "outputs": [
    {
     "data": {
      "text/plain": [
       "True"
      ]
     },
     "execution_count": 20,
     "metadata": {},
     "output_type": "execute_result"
    }
   ],
   "source": [
    "5 != 4"
   ]
  },
  {
   "cell_type": "markdown",
   "id": "4ec81fff",
   "metadata": {},
   "source": [
    "### and - or operatörleri"
   ]
  },
  {
   "cell_type": "code",
   "execution_count": 22,
   "id": "9d252572",
   "metadata": {},
   "outputs": [
    {
     "data": {
      "text/plain": [
       "True"
      ]
     },
     "execution_count": 22,
     "metadata": {},
     "output_type": "execute_result"
    }
   ],
   "source": [
    "3 > 1 and 3 > 2"
   ]
  },
  {
   "cell_type": "code",
   "execution_count": null,
   "id": "674c3881",
   "metadata": {},
   "outputs": [],
   "source": []
  },
  {
   "cell_type": "code",
   "execution_count": 24,
   "id": "58a3e54e",
   "metadata": {},
   "outputs": [
    {
     "data": {
      "text/plain": [
       "True"
      ]
     },
     "execution_count": 24,
     "metadata": {},
     "output_type": "execute_result"
    }
   ],
   "source": [
    "3 > 1 or 3 < 2"
   ]
  },
  {
   "cell_type": "code",
   "execution_count": 25,
   "id": "ca363490",
   "metadata": {},
   "outputs": [
    {
     "data": {
      "text/plain": [
       "False"
      ]
     },
     "execution_count": 25,
     "metadata": {},
     "output_type": "execute_result"
    }
   ],
   "source": [
    "3 > 1 and 3 < 2"
   ]
  },
  {
   "cell_type": "code",
   "execution_count": null,
   "id": "7c3616bf",
   "metadata": {},
   "outputs": [],
   "source": []
  },
  {
   "cell_type": "code",
   "execution_count": null,
   "id": "18639a96",
   "metadata": {},
   "outputs": [],
   "source": []
  }
 ],
 "metadata": {
  "kernelspec": {
   "display_name": "Python 3 (ipykernel)",
   "language": "python",
   "name": "python3"
  },
  "language_info": {
   "codemirror_mode": {
    "name": "ipython",
    "version": 3
   },
   "file_extension": ".py",
   "mimetype": "text/x-python",
   "name": "python",
   "nbconvert_exporter": "python",
   "pygments_lexer": "ipython3",
   "version": "3.9.7"
  }
 },
 "nbformat": 4,
 "nbformat_minor": 5
}
