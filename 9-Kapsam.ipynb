{
 "cells": [
  {
   "cell_type": "code",
   "execution_count": 1,
   "id": "42bb894e",
   "metadata": {},
   "outputs": [],
   "source": [
    "sayi = 30                        # sayı'yı numaraya bölelim\n",
    "\n",
    "def bolme(num):\n",
    "    sayi = 10\n",
    "    return sayi / num"
   ]
  },
  {
   "cell_type": "code",
   "execution_count": 2,
   "id": "c857f13c",
   "metadata": {},
   "outputs": [
    {
     "data": {
      "text/plain": [
       "5.0"
      ]
     },
     "execution_count": 2,
     "metadata": {},
     "output_type": "execute_result"
    }
   ],
   "source": [
    "bolme(2)"
   ]
  },
  {
   "cell_type": "code",
   "execution_count": 4,
   "id": "0c00c675",
   "metadata": {},
   "outputs": [
    {
     "data": {
      "text/plain": [
       "3.3333333333333335"
      ]
     },
     "execution_count": 4,
     "metadata": {},
     "output_type": "execute_result"
    }
   ],
   "source": [
    "bolme(3)"
   ]
  },
  {
   "cell_type": "code",
   "execution_count": 5,
   "id": "c64f048a",
   "metadata": {},
   "outputs": [
    {
     "data": {
      "text/plain": [
       "2.5"
      ]
     },
     "execution_count": 5,
     "metadata": {},
     "output_type": "execute_result"
    }
   ],
   "source": [
    "bolme(4)"
   ]
  },
  {
   "cell_type": "code",
   "execution_count": 6,
   "id": "1944de3b",
   "metadata": {},
   "outputs": [
    {
     "data": {
      "text/plain": [
       "30"
      ]
     },
     "execution_count": 6,
     "metadata": {},
     "output_type": "execute_result"
    }
   ],
   "source": [
    "sayi          # Peki, sayi 30 ise neden 10 üzerinden işlemler yaptı?"
   ]
  },
  {
   "cell_type": "code",
   "execution_count": 10,
   "id": "eb6f3d95",
   "metadata": {},
   "outputs": [],
   "source": [
    "# Çünkü bu kapsamdan kaynaklıdır. Scope(kapsam). "
   ]
  },
  {
   "cell_type": "code",
   "execution_count": 8,
   "id": "4547269d",
   "metadata": {},
   "outputs": [],
   "source": [
    "a = 100\n",
    "a = 50"
   ]
  },
  {
   "cell_type": "code",
   "execution_count": 9,
   "id": "de83ae23",
   "metadata": {},
   "outputs": [
    {
     "data": {
      "text/plain": [
       "50"
      ]
     },
     "execution_count": 9,
     "metadata": {},
     "output_type": "execute_result"
    }
   ],
   "source": [
    "a"
   ]
  },
  {
   "cell_type": "code",
   "execution_count": 11,
   "id": "6a5eddbe",
   "metadata": {},
   "outputs": [],
   "source": [
    "# local, Enclosing, Global, Built-in"
   ]
  },
  {
   "cell_type": "code",
   "execution_count": null,
   "id": "9721f022",
   "metadata": {},
   "outputs": [],
   "source": []
  },
  {
   "cell_type": "code",
   "execution_count": 22,
   "id": "8f418c43",
   "metadata": {},
   "outputs": [],
   "source": [
    "superKahraman = \"Batman\"               # Hiçbiri olmazsa built-in yani python'da                                      \n",
    "#global                                # bir şeyler tanımlı mı ona bakar.\n",
    "\n",
    "def ornekFonksiyon():\n",
    "    superKahraman = \"Spiderman\"\n",
    "    #enclosing\n",
    "    \n",
    "    def icFonksiyon():\n",
    "        superKahraman = \"Aquaman\"\n",
    "        #local\n",
    "        print(superKahraman)\n",
    "        \n",
    "    icFonksiyon()"
   ]
  },
  {
   "cell_type": "code",
   "execution_count": 23,
   "id": "f7ab7b65",
   "metadata": {},
   "outputs": [
    {
     "name": "stdout",
     "output_type": "stream",
     "text": [
      "Aquaman\n"
     ]
    }
   ],
   "source": [
    "ornekFonksiyon()"
   ]
  },
  {
   "cell_type": "code",
   "execution_count": 25,
   "id": "88aae486",
   "metadata": {
    "scrolled": true
   },
   "outputs": [
    {
     "data": {
      "text/plain": [
       "'Batman'"
      ]
     },
     "execution_count": 25,
     "metadata": {},
     "output_type": "execute_result"
    }
   ],
   "source": [
    "superKahraman"
   ]
  },
  {
   "cell_type": "code",
   "execution_count": null,
   "id": "b416ef5c",
   "metadata": {},
   "outputs": [],
   "source": []
  },
  {
   "cell_type": "code",
   "execution_count": 26,
   "id": "67253617",
   "metadata": {},
   "outputs": [],
   "source": [
    "superKahraman = \"Batman\"               # Hiçbiri olmazsa built-in yani python'da bir şeyler                                     \n",
    "#global                                # bir şeyler tanımlı mı ona bakar.\n",
    "\n",
    "def ornekFonksiyon():\n",
    "    superKahraman = \"Spiderman\"\n",
    "    #enclosing\n",
    "    \n",
    "    def icFonksiyon():\n",
    "        print(superKahraman)\n",
    "        \n",
    "    icFonksiyon()"
   ]
  },
  {
   "cell_type": "code",
   "execution_count": 28,
   "id": "9c542464",
   "metadata": {},
   "outputs": [
    {
     "name": "stdout",
     "output_type": "stream",
     "text": [
      "Spiderman\n"
     ]
    }
   ],
   "source": [
    "ornekFonksiyon()"
   ]
  },
  {
   "cell_type": "code",
   "execution_count": null,
   "id": "23f82760",
   "metadata": {},
   "outputs": [],
   "source": []
  },
  {
   "cell_type": "code",
   "execution_count": 29,
   "id": "1d0dc776",
   "metadata": {},
   "outputs": [],
   "source": [
    "superKahraman = \"Batman\"               # Hiçbiri olmazsa built-in yani python'da bir şeyler                                     \n",
    "#global                                # bir şeyler tanımlı mı ona bakar.\n",
    "\n",
    "def ornekFonksiyon():\n",
    "    #enclosing\n",
    "    \n",
    "    def icFonksiyon():\n",
    "        print(superKahraman)\n",
    "        \n",
    "    icFonksiyon()"
   ]
  },
  {
   "cell_type": "code",
   "execution_count": 33,
   "id": "dbef9e6b",
   "metadata": {},
   "outputs": [
    {
     "name": "stdout",
     "output_type": "stream",
     "text": [
      "Batman\n"
     ]
    }
   ],
   "source": [
    "ornekFonksiyon()"
   ]
  },
  {
   "cell_type": "code",
   "execution_count": null,
   "id": "d8825367",
   "metadata": {},
   "outputs": [],
   "source": []
  },
  {
   "cell_type": "code",
   "execution_count": 35,
   "id": "5432543f",
   "metadata": {},
   "outputs": [],
   "source": [
    "                                                                        \n",
    "#global                                \n",
    "\n",
    "def ornekFonksiyon():\n",
    "    #enclosing\n",
    "    \n",
    "    def icFonksiyon():\n",
    "        print(superaraba)\n",
    "        \n",
    "    icFonksiyon()"
   ]
  },
  {
   "cell_type": "code",
   "execution_count": 36,
   "id": "b8101e10",
   "metadata": {},
   "outputs": [
    {
     "ename": "NameError",
     "evalue": "name 'superaraba' is not defined",
     "output_type": "error",
     "traceback": [
      "\u001b[1;31m---------------------------------------------------------------------------\u001b[0m",
      "\u001b[1;31mNameError\u001b[0m                                 Traceback (most recent call last)",
      "\u001b[1;32m~\\AppData\\Local\\Temp/ipykernel_8324/1034518958.py\u001b[0m in \u001b[0;36m<module>\u001b[1;34m\u001b[0m\n\u001b[1;32m----> 1\u001b[1;33m \u001b[0mornekFonksiyon\u001b[0m\u001b[1;33m(\u001b[0m\u001b[1;33m)\u001b[0m\u001b[1;33m\u001b[0m\u001b[1;33m\u001b[0m\u001b[0m\n\u001b[0m",
      "\u001b[1;32m~\\AppData\\Local\\Temp/ipykernel_8324/629560484.py\u001b[0m in \u001b[0;36mornekFonksiyon\u001b[1;34m()\u001b[0m\n\u001b[0;32m      8\u001b[0m         \u001b[0mprint\u001b[0m\u001b[1;33m(\u001b[0m\u001b[0msuperaraba\u001b[0m\u001b[1;33m)\u001b[0m\u001b[1;33m\u001b[0m\u001b[1;33m\u001b[0m\u001b[0m\n\u001b[0;32m      9\u001b[0m \u001b[1;33m\u001b[0m\u001b[0m\n\u001b[1;32m---> 10\u001b[1;33m     \u001b[0micFonksiyon\u001b[0m\u001b[1;33m(\u001b[0m\u001b[1;33m)\u001b[0m\u001b[1;33m\u001b[0m\u001b[1;33m\u001b[0m\u001b[0m\n\u001b[0m",
      "\u001b[1;32m~\\AppData\\Local\\Temp/ipykernel_8324/629560484.py\u001b[0m in \u001b[0;36micFonksiyon\u001b[1;34m()\u001b[0m\n\u001b[0;32m      6\u001b[0m \u001b[1;33m\u001b[0m\u001b[0m\n\u001b[0;32m      7\u001b[0m     \u001b[1;32mdef\u001b[0m \u001b[0micFonksiyon\u001b[0m\u001b[1;33m(\u001b[0m\u001b[1;33m)\u001b[0m\u001b[1;33m:\u001b[0m\u001b[1;33m\u001b[0m\u001b[1;33m\u001b[0m\u001b[0m\n\u001b[1;32m----> 8\u001b[1;33m         \u001b[0mprint\u001b[0m\u001b[1;33m(\u001b[0m\u001b[0msuperaraba\u001b[0m\u001b[1;33m)\u001b[0m\u001b[1;33m\u001b[0m\u001b[1;33m\u001b[0m\u001b[0m\n\u001b[0m\u001b[0;32m      9\u001b[0m \u001b[1;33m\u001b[0m\u001b[0m\n\u001b[0;32m     10\u001b[0m     \u001b[0micFonksiyon\u001b[0m\u001b[1;33m(\u001b[0m\u001b[1;33m)\u001b[0m\u001b[1;33m\u001b[0m\u001b[1;33m\u001b[0m\u001b[0m\n",
      "\u001b[1;31mNameError\u001b[0m: name 'superaraba' is not defined"
     ]
    }
   ],
   "source": [
    "ornekFonksiyon()"
   ]
  },
  {
   "cell_type": "code",
   "execution_count": null,
   "id": "47deb6b1",
   "metadata": {},
   "outputs": [],
   "source": []
  },
  {
   "cell_type": "code",
   "execution_count": 38,
   "id": "12ca6a5b",
   "metadata": {},
   "outputs": [],
   "source": [
    "x = 5\n",
    "\n",
    "def yeniOrnek(x):\n",
    "    print(x)\n",
    "    x = 10\n",
    "    print(x)\n",
    "    return x"
   ]
  },
  {
   "cell_type": "code",
   "execution_count": 39,
   "id": "0fbb9e51",
   "metadata": {},
   "outputs": [
    {
     "name": "stdout",
     "output_type": "stream",
     "text": [
      "20\n",
      "10\n"
     ]
    },
    {
     "data": {
      "text/plain": [
       "10"
      ]
     },
     "execution_count": 39,
     "metadata": {},
     "output_type": "execute_result"
    }
   ],
   "source": [
    "yeniOrnek(20)"
   ]
  },
  {
   "cell_type": "code",
   "execution_count": 40,
   "id": "a22ebb0a",
   "metadata": {},
   "outputs": [
    {
     "data": {
      "text/plain": [
       "5"
      ]
     },
     "execution_count": 40,
     "metadata": {},
     "output_type": "execute_result"
    }
   ],
   "source": [
    "x"
   ]
  },
  {
   "cell_type": "code",
   "execution_count": 41,
   "id": "74efbfd5",
   "metadata": {},
   "outputs": [],
   "source": [
    "# Yani fonksiyon çinde bir tanımlama yapılmasa durumunda global'deki değeri etkilemez"
   ]
  },
  {
   "cell_type": "code",
   "execution_count": 42,
   "id": "5f7aa404",
   "metadata": {},
   "outputs": [],
   "source": [
    "# Peki globaldeki değeri değiştiremez miyiz?"
   ]
  },
  {
   "cell_type": "code",
   "execution_count": 43,
   "id": "c626064f",
   "metadata": {},
   "outputs": [
    {
     "name": "stdout",
     "output_type": "stream",
     "text": [
      "20\n",
      "10\n"
     ]
    }
   ],
   "source": [
    "x = yeniOrnek(20)"
   ]
  },
  {
   "cell_type": "code",
   "execution_count": 44,
   "id": "50228d13",
   "metadata": {},
   "outputs": [
    {
     "data": {
      "text/plain": [
       "10"
      ]
     },
     "execution_count": 44,
     "metadata": {},
     "output_type": "execute_result"
    }
   ],
   "source": [
    "x"
   ]
  },
  {
   "cell_type": "code",
   "execution_count": null,
   "id": "a3b58b74",
   "metadata": {},
   "outputs": [],
   "source": []
  },
  {
   "cell_type": "code",
   "execution_count": 45,
   "id": "c6314b81",
   "metadata": {},
   "outputs": [],
   "source": [
    "y = 5\n",
    "\n",
    "def yeniBirFonksiyon():\n",
    "    y = 10\n",
    "    print(y)"
   ]
  },
  {
   "cell_type": "code",
   "execution_count": 46,
   "id": "cdb02754",
   "metadata": {},
   "outputs": [
    {
     "name": "stdout",
     "output_type": "stream",
     "text": [
      "10\n"
     ]
    }
   ],
   "source": [
    "yeniBirFonksiyon()"
   ]
  },
  {
   "cell_type": "code",
   "execution_count": 47,
   "id": "eb793581",
   "metadata": {},
   "outputs": [],
   "source": [
    "z = 5\n",
    "\n",
    "def yeniFonksiyon():\n",
    "    global z          # global değişkeni değiştirmek istersek fonksiyonun içinde belirtmemiz lazım\n",
    "    z = 10\n",
    "    print(z)"
   ]
  },
  {
   "cell_type": "code",
   "execution_count": 52,
   "id": "dd222dd4",
   "metadata": {},
   "outputs": [
    {
     "data": {
      "text/plain": [
       "10"
      ]
     },
     "execution_count": 52,
     "metadata": {},
     "output_type": "execute_result"
    }
   ],
   "source": [
    "z"
   ]
  },
  {
   "cell_type": "code",
   "execution_count": null,
   "id": "d70552cd",
   "metadata": {},
   "outputs": [],
   "source": []
  }
 ],
 "metadata": {
  "kernelspec": {
   "display_name": "Python 3 (ipykernel)",
   "language": "python",
   "name": "python3"
  },
  "language_info": {
   "codemirror_mode": {
    "name": "ipython",
    "version": 3
   },
   "file_extension": ".py",
   "mimetype": "text/x-python",
   "name": "python",
   "nbconvert_exporter": "python",
   "pygments_lexer": "ipython3",
   "version": "3.9.7"
  }
 },
 "nbformat": 4,
 "nbformat_minor": 5
}
