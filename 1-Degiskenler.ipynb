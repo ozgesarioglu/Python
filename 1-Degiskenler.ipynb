{
 "cells": [
  {
   "cell_type": "markdown",
   "id": "efa3d489",
   "metadata": {},
   "source": [
    "# Değişkenler"
   ]
  },
  {
   "cell_type": "code",
   "execution_count": 1,
   "id": "a2929398",
   "metadata": {},
   "outputs": [
    {
     "name": "stdout",
     "output_type": "stream",
     "text": [
      "Merhaba Python\n"
     ]
    }
   ],
   "source": [
    "print(\"Merhaba Python\")"
   ]
  },
  {
   "cell_type": "markdown",
   "id": "31c60b2f",
   "metadata": {},
   "source": [
    "Sibel güvenlik eğitimi içerisinde temel python bölümüne başladık"
   ]
  },
  {
   "cell_type": "code",
   "execution_count": 2,
   "id": "0d45b267",
   "metadata": {},
   "outputs": [
    {
     "data": {
      "text/plain": [
       "8"
      ]
     },
     "execution_count": 2,
     "metadata": {},
     "output_type": "execute_result"
    }
   ],
   "source": [
    "3+5"
   ]
  },
  {
   "cell_type": "code",
   "execution_count": 3,
   "id": "bef5e4ef",
   "metadata": {},
   "outputs": [
    {
     "data": {
      "text/plain": [
       "24"
      ]
     },
     "execution_count": 3,
     "metadata": {},
     "output_type": "execute_result"
    }
   ],
   "source": [
    "3*8"
   ]
  },
  {
   "cell_type": "code",
   "execution_count": 4,
   "id": "5d0fd36c",
   "metadata": {},
   "outputs": [
    {
     "data": {
      "text/plain": [
       "8"
      ]
     },
     "execution_count": 4,
     "metadata": {},
     "output_type": "execute_result"
    }
   ],
   "source": [
    "10-2"
   ]
  },
  {
   "cell_type": "code",
   "execution_count": 5,
   "id": "12fc2300",
   "metadata": {},
   "outputs": [
    {
     "data": {
      "text/plain": [
       "300"
      ]
     },
     "execution_count": 5,
     "metadata": {},
     "output_type": "execute_result"
    }
   ],
   "source": [
    "3*5*10*2"
   ]
  },
  {
   "cell_type": "code",
   "execution_count": 6,
   "id": "a5796142",
   "metadata": {},
   "outputs": [
    {
     "data": {
      "text/plain": [
       "243"
      ]
     },
     "execution_count": 6,
     "metadata": {},
     "output_type": "execute_result"
    }
   ],
   "source": [
    "3*3*3*3*3"
   ]
  },
  {
   "cell_type": "code",
   "execution_count": 7,
   "id": "6c02bb7e",
   "metadata": {},
   "outputs": [
    {
     "data": {
      "text/plain": [
       "243"
      ]
     },
     "execution_count": 7,
     "metadata": {},
     "output_type": "execute_result"
    }
   ],
   "source": [
    "3**5  "
   ]
  },
  {
   "cell_type": "markdown",
   "id": "9bbca72f",
   "metadata": {},
   "source": [
    "kullanici_yasi => snake_case\n",
    "kullaniic_Yasi => camelCase"
   ]
  },
  {
   "cell_type": "code",
   "execution_count": 9,
   "id": "4ae3af5a",
   "metadata": {},
   "outputs": [],
   "source": [
    "kullanici_yasi=28"
   ]
  },
  {
   "cell_type": "code",
   "execution_count": 10,
   "id": "9ab5d124",
   "metadata": {},
   "outputs": [
    {
     "data": {
      "text/plain": [
       "280"
      ]
     },
     "execution_count": 10,
     "metadata": {},
     "output_type": "execute_result"
    }
   ],
   "source": [
    "kullanici_yasi*10"
   ]
  },
  {
   "cell_type": "code",
   "execution_count": 11,
   "id": "8f922006",
   "metadata": {},
   "outputs": [
    {
     "data": {
      "text/plain": [
       "28"
      ]
     },
     "execution_count": 11,
     "metadata": {},
     "output_type": "execute_result"
    }
   ],
   "source": [
    "kullanici_yasi"
   ]
  },
  {
   "cell_type": "code",
   "execution_count": 12,
   "id": "faa37bf9",
   "metadata": {},
   "outputs": [],
   "source": [
    "kullanici_yasi = 35"
   ]
  },
  {
   "cell_type": "code",
   "execution_count": 13,
   "id": "d8364752",
   "metadata": {},
   "outputs": [
    {
     "data": {
      "text/plain": [
       "35"
      ]
     },
     "execution_count": 13,
     "metadata": {},
     "output_type": "execute_result"
    }
   ],
   "source": [
    "kullanici_yasi"
   ]
  },
  {
   "cell_type": "code",
   "execution_count": 14,
   "id": "845d3d40",
   "metadata": {},
   "outputs": [
    {
     "data": {
      "text/plain": [
       "70"
      ]
     },
     "execution_count": 14,
     "metadata": {},
     "output_type": "execute_result"
    }
   ],
   "source": [
    "kullanici_yasi*2"
   ]
  },
  {
   "cell_type": "code",
   "execution_count": 15,
   "id": "b58320a9",
   "metadata": {},
   "outputs": [],
   "source": [
    "benim_sayim = 20"
   ]
  },
  {
   "cell_type": "code",
   "execution_count": 16,
   "id": "fc57f085",
   "metadata": {},
   "outputs": [
    {
     "data": {
      "text/plain": [
       "10.0"
      ]
     },
     "execution_count": 16,
     "metadata": {},
     "output_type": "execute_result"
    }
   ],
   "source": [
    "benim_sayim/2"
   ]
  },
  {
   "cell_type": "code",
   "execution_count": 17,
   "id": "c21892d3",
   "metadata": {},
   "outputs": [
    {
     "data": {
      "text/plain": [
       "62.800000000000004"
      ]
     },
     "execution_count": 17,
     "metadata": {},
     "output_type": "execute_result"
    }
   ],
   "source": [
    "2 * 3.14 * 10"
   ]
  },
  {
   "cell_type": "code",
   "execution_count": 20,
   "id": "fa7c6d75",
   "metadata": {},
   "outputs": [
    {
     "data": {
      "text/plain": [
       "62.800000000000004"
      ]
     },
     "execution_count": 20,
     "metadata": {},
     "output_type": "execute_result"
    }
   ],
   "source": [
    "yari_cap = 10\n",
    "dairenin_cevresi = 2*3.14*yari_cap\n",
    "dairenin_cevresi"
   ]
  },
  {
   "cell_type": "markdown",
   "id": "c8cc3d57",
   "metadata": {},
   "source": [
    "# Veri Tipleri"
   ]
  },
  {
   "cell_type": "code",
   "execution_count": 22,
   "id": "59d4c658",
   "metadata": {},
   "outputs": [],
   "source": [
    "x=10\n",
    "y=20"
   ]
  },
  {
   "cell_type": "code",
   "execution_count": 23,
   "id": "5faa8352",
   "metadata": {},
   "outputs": [
    {
     "data": {
      "text/plain": [
       "int"
      ]
     },
     "execution_count": 23,
     "metadata": {},
     "output_type": "execute_result"
    }
   ],
   "source": [
    "type(x)  # yeşil olması pythonda önceden bunun tanımlı olduğu anlamına gelir."
   ]
  },
  {
   "cell_type": "code",
   "execution_count": 25,
   "id": "93ccf6e5",
   "metadata": {},
   "outputs": [
    {
     "data": {
      "text/plain": [
       "int"
      ]
     },
     "execution_count": 25,
     "metadata": {},
     "output_type": "execute_result"
    }
   ],
   "source": [
    "type(y)   # shift+tab'a basıp fonksiyonun özelliklerini gösterir."
   ]
  },
  {
   "cell_type": "code",
   "execution_count": 26,
   "id": "f48a07a5",
   "metadata": {},
   "outputs": [],
   "source": [
    "# integer -> tam sayı"
   ]
  },
  {
   "cell_type": "code",
   "execution_count": 28,
   "id": "b550d8c9",
   "metadata": {},
   "outputs": [],
   "source": [
    "sonuc = x / y"
   ]
  },
  {
   "cell_type": "code",
   "execution_count": 29,
   "id": "7d6e83bd",
   "metadata": {},
   "outputs": [
    {
     "data": {
      "text/plain": [
       "float"
      ]
     },
     "execution_count": 29,
     "metadata": {},
     "output_type": "execute_result"
    }
   ],
   "source": [
    "type(sonuc)"
   ]
  },
  {
   "cell_type": "code",
   "execution_count": 30,
   "id": "a96eef47",
   "metadata": {},
   "outputs": [],
   "source": [
    "# float -> ondalıklı sayı"
   ]
  },
  {
   "cell_type": "code",
   "execution_count": 31,
   "id": "5912d484",
   "metadata": {},
   "outputs": [],
   "source": [
    "buyukSayi = 100000\n",
    "ondalikCok = 12.315484123      # hafızada yer kaplama durumları farklı"
   ]
  },
  {
   "cell_type": "code",
   "execution_count": 32,
   "id": "afd0f0f7",
   "metadata": {},
   "outputs": [],
   "source": [
    "# bug ile karşılaşma durumunda ya da programı açıp kapatma durumunda bir sıkıntı ile karşılaşmamak için  kernel restart & run all yap"
   ]
  },
  {
   "cell_type": "markdown",
   "id": "47e51fbd",
   "metadata": {},
   "source": [
    "Kalanını bulmak"
   ]
  },
  {
   "cell_type": "code",
   "execution_count": 33,
   "id": "86cd3174",
   "metadata": {},
   "outputs": [
    {
     "data": {
      "text/plain": [
       "1"
      ]
     },
     "execution_count": 33,
     "metadata": {},
     "output_type": "execute_result"
    }
   ],
   "source": [
    "10 % 3              # 10'u 3'e bölünce kaç kalır?"
   ]
  },
  {
   "cell_type": "markdown",
   "id": "5fa9b8db",
   "metadata": {},
   "source": [
    "Kullanıcıdan bilgi alma"
   ]
  },
  {
   "cell_type": "code",
   "execution_count": 82,
   "id": "cad77623",
   "metadata": {},
   "outputs": [
    {
     "name": "stdout",
     "output_type": "stream",
     "text": [
      "Lütfen yaşınızı giriniz: 32\n"
     ]
    }
   ],
   "source": [
    "kullaniciYasi = input(\"Lütfen yaşınızı giriniz: \")"
   ]
  },
  {
   "cell_type": "code",
   "execution_count": 83,
   "id": "5dce9a2f",
   "metadata": {},
   "outputs": [
    {
     "data": {
      "text/plain": [
       "'353535'"
      ]
     },
     "execution_count": 83,
     "metadata": {},
     "output_type": "execute_result"
    }
   ],
   "source": [
    "kullanici_yasi*3             # Kullanıcıya veri tipi belirtilmezse String olarak kabul eder"
   ]
  },
  {
   "cell_type": "code",
   "execution_count": 84,
   "id": "d78b778c",
   "metadata": {
    "scrolled": true
   },
   "outputs": [
    {
     "data": {
      "text/plain": [
       "str"
      ]
     },
     "execution_count": 84,
     "metadata": {},
     "output_type": "execute_result"
    }
   ],
   "source": [
    "type(kullaniciYasi)"
   ]
  },
  {
   "cell_type": "code",
   "execution_count": 85,
   "id": "985859c5",
   "metadata": {},
   "outputs": [],
   "source": [
    "# string"
   ]
  },
  {
   "cell_type": "code",
   "execution_count": 86,
   "id": "83e23a5e",
   "metadata": {},
   "outputs": [
    {
     "data": {
      "text/plain": [
       "'Özge SarıoğluÖzge SarıoğluÖzge Sarıoğlu'"
      ]
     },
     "execution_count": 86,
     "metadata": {},
     "output_type": "execute_result"
    }
   ],
   "source": [
    "x = \"Özge Sarıoğlu\"\n",
    "type(x)\n",
    "x*3"
   ]
  },
  {
   "cell_type": "code",
   "execution_count": 87,
   "id": "ab7ba5f9",
   "metadata": {},
   "outputs": [
    {
     "data": {
      "text/plain": [
       "int"
      ]
     },
     "execution_count": 87,
     "metadata": {},
     "output_type": "execute_result"
    }
   ],
   "source": [
    "x = 5\n",
    "type(x)"
   ]
  },
  {
   "cell_type": "code",
   "execution_count": 88,
   "id": "a2aef9f6",
   "metadata": {},
   "outputs": [],
   "source": [
    "x = \"merhaba\""
   ]
  },
  {
   "cell_type": "code",
   "execution_count": 89,
   "id": "51797add",
   "metadata": {},
   "outputs": [
    {
     "data": {
      "text/plain": [
       "str"
      ]
     },
     "execution_count": 89,
     "metadata": {},
     "output_type": "execute_result"
    }
   ],
   "source": [
    "type(x)"
   ]
  },
  {
   "cell_type": "code",
   "execution_count": 90,
   "id": "63fd0d56",
   "metadata": {},
   "outputs": [],
   "source": [
    "# x. +tab x'in yapabileceklerini gösterir"
   ]
  },
  {
   "cell_type": "code",
   "execution_count": 91,
   "id": "5b430625",
   "metadata": {},
   "outputs": [
    {
     "data": {
      "text/plain": [
       "'Merhaba'"
      ]
     },
     "execution_count": 91,
     "metadata": {},
     "output_type": "execute_result"
    }
   ],
   "source": [
    "x.capitalize()"
   ]
  },
  {
   "cell_type": "code",
   "execution_count": 92,
   "id": "bcf524bf",
   "metadata": {},
   "outputs": [
    {
     "data": {
      "text/plain": [
       "False"
      ]
     },
     "execution_count": 92,
     "metadata": {},
     "output_type": "execute_result"
    }
   ],
   "source": [
    "kullaniciYasi.endswith(\"a\")   # -> a ile mi bitiyor?"
   ]
  },
  {
   "cell_type": "code",
   "execution_count": null,
   "id": "27ec073c",
   "metadata": {},
   "outputs": [],
   "source": []
  },
  {
   "cell_type": "code",
   "execution_count": 93,
   "id": "fda181f2",
   "metadata": {},
   "outputs": [],
   "source": [
    "benimString = \"Özge Sarıoğlu\""
   ]
  },
  {
   "cell_type": "code",
   "execution_count": 94,
   "id": "247475be",
   "metadata": {},
   "outputs": [
    {
     "data": {
      "text/plain": [
       "'özge sarıoğlu'"
      ]
     },
     "execution_count": 94,
     "metadata": {},
     "output_type": "execute_result"
    }
   ],
   "source": [
    "benimString.lower()       # -> harfleri küçük harfe çevirir."
   ]
  },
  {
   "cell_type": "code",
   "execution_count": 95,
   "id": "032bec22",
   "metadata": {},
   "outputs": [
    {
     "data": {
      "text/plain": [
       "'ÖZGE SARIOĞLU'"
      ]
     },
     "execution_count": 95,
     "metadata": {},
     "output_type": "execute_result"
    }
   ],
   "source": [
    "benimString.upper()"
   ]
  },
  {
   "cell_type": "code",
   "execution_count": 96,
   "id": "d24da423",
   "metadata": {},
   "outputs": [
    {
     "data": {
      "text/plain": [
       "int"
      ]
     },
     "execution_count": 96,
     "metadata": {},
     "output_type": "execute_result"
    }
   ],
   "source": [
    "y = 50\n",
    "type(y)          # integer'ın string kadar özellikleri yoktur, doğal olarak :)"
   ]
  },
  {
   "cell_type": "code",
   "execution_count": 97,
   "id": "24098684",
   "metadata": {},
   "outputs": [],
   "source": [
    "baskaString = \"örnek\"    # tek tırnak ya da çift tırnak ile çalışabilir. Ancak "
   ]
  },
  {
   "cell_type": "code",
   "execution_count": 98,
   "id": "16de3d88",
   "metadata": {},
   "outputs": [
    {
     "ename": "SyntaxError",
     "evalue": "invalid syntax (Temp/ipykernel_55744/4178323106.py, line 1)",
     "output_type": "error",
     "traceback": [
      "\u001b[1;36m  File \u001b[1;32m\"C:\\Users\\ozgee\\AppData\\Local\\Temp/ipykernel_55744/4178323106.py\"\u001b[1;36m, line \u001b[1;32m1\u001b[0m\n\u001b[1;33m    digerString = 'Özge'nin kitabı'   # hata verir.\u001b[0m\n\u001b[1;37m                        ^\u001b[0m\n\u001b[1;31mSyntaxError\u001b[0m\u001b[1;31m:\u001b[0m invalid syntax\n"
     ]
    }
   ],
   "source": [
    "digerString = 'Özge'nin kitabı'   # hata verir."
   ]
  },
  {
   "cell_type": "code",
   "execution_count": 107,
   "id": "e7670bb2",
   "metadata": {},
   "outputs": [
    {
     "name": "stdout",
     "output_type": "stream",
     "text": [
      "Yaşınızı giriniz: 35\n"
     ]
    }
   ],
   "source": [
    "kullaniciYasi = input(\"Yaşınızı giriniz: \")"
   ]
  },
  {
   "cell_type": "code",
   "execution_count": 108,
   "id": "690f93e4",
   "metadata": {},
   "outputs": [
    {
     "data": {
      "text/plain": [
       "str"
      ]
     },
     "execution_count": 108,
     "metadata": {},
     "output_type": "execute_result"
    }
   ],
   "source": [
    "type(kullaniciYasi)"
   ]
  },
  {
   "cell_type": "code",
   "execution_count": 110,
   "id": "26b3bac5",
   "metadata": {},
   "outputs": [],
   "source": [
    "kullaniciYasiInt = int(kullaniciYasi)           # -> kullanıcı yaşını alıp integer'a çevirir."
   ]
  },
  {
   "cell_type": "code",
   "execution_count": 112,
   "id": "f1bd0510",
   "metadata": {},
   "outputs": [
    {
     "data": {
      "text/plain": [
       "35"
      ]
     },
     "execution_count": 112,
     "metadata": {},
     "output_type": "execute_result"
    }
   ],
   "source": [
    "kullaniciYasiInt"
   ]
  },
  {
   "cell_type": "code",
   "execution_count": 114,
   "id": "b0831c29",
   "metadata": {},
   "outputs": [
    {
     "data": {
      "text/plain": [
       "175"
      ]
     },
     "execution_count": 114,
     "metadata": {},
     "output_type": "execute_result"
    }
   ],
   "source": [
    "kullaniciYasiInt*5"
   ]
  },
  {
   "cell_type": "code",
   "execution_count": null,
   "id": "c725f0b7",
   "metadata": {},
   "outputs": [],
   "source": []
  },
  {
   "cell_type": "code",
   "execution_count": 115,
   "id": "1113c529",
   "metadata": {},
   "outputs": [],
   "source": [
    "benimString  = \"3.14\""
   ]
  },
  {
   "cell_type": "code",
   "execution_count": 116,
   "id": "5e9d8ec4",
   "metadata": {},
   "outputs": [],
   "source": [
    "piFloat = float(benimString)"
   ]
  },
  {
   "cell_type": "code",
   "execution_count": 117,
   "id": "5fce130a",
   "metadata": {},
   "outputs": [
    {
     "data": {
      "text/plain": [
       "3.14"
      ]
     },
     "execution_count": 117,
     "metadata": {},
     "output_type": "execute_result"
    }
   ],
   "source": [
    "piFloat"
   ]
  },
  {
   "cell_type": "code",
   "execution_count": 118,
   "id": "67c1b343",
   "metadata": {},
   "outputs": [
    {
     "data": {
      "text/plain": [
       "str"
      ]
     },
     "execution_count": 118,
     "metadata": {},
     "output_type": "execute_result"
    }
   ],
   "source": [
    "type(benimString)"
   ]
  },
  {
   "cell_type": "code",
   "execution_count": null,
   "id": "78e6de4e",
   "metadata": {},
   "outputs": [],
   "source": []
  },
  {
   "cell_type": "code",
   "execution_count": 119,
   "id": "172fd027",
   "metadata": {},
   "outputs": [],
   "source": [
    "x = \"Ayse\""
   ]
  },
  {
   "cell_type": "code",
   "execution_count": 121,
   "id": "5b8262cf",
   "metadata": {},
   "outputs": [
    {
     "ename": "ValueError",
     "evalue": "invalid literal for int() with base 10: 'Ayse'",
     "output_type": "error",
     "traceback": [
      "\u001b[1;31m---------------------------------------------------------------------------\u001b[0m",
      "\u001b[1;31mValueError\u001b[0m                                Traceback (most recent call last)",
      "\u001b[1;32m~\\AppData\\Local\\Temp/ipykernel_55744/2322249050.py\u001b[0m in \u001b[0;36m<module>\u001b[1;34m\u001b[0m\n\u001b[1;32m----> 1\u001b[1;33m \u001b[0mint\u001b[0m\u001b[1;33m(\u001b[0m\u001b[0mx\u001b[0m\u001b[1;33m)\u001b[0m            \u001b[1;31m# mantıklı dönüşümler yapılır.\u001b[0m\u001b[1;33m\u001b[0m\u001b[1;33m\u001b[0m\u001b[0m\n\u001b[0m",
      "\u001b[1;31mValueError\u001b[0m: invalid literal for int() with base 10: 'Ayse'"
     ]
    }
   ],
   "source": [
    "int(x)            # mantıklı dönüşümler yapılır."
   ]
  },
  {
   "cell_type": "code",
   "execution_count": null,
   "id": "833ec37f",
   "metadata": {},
   "outputs": [],
   "source": []
  },
  {
   "cell_type": "code",
   "execution_count": 122,
   "id": "750db0f4",
   "metadata": {},
   "outputs": [],
   "source": [
    "x = 50"
   ]
  },
  {
   "cell_type": "code",
   "execution_count": 123,
   "id": "b53bb929",
   "metadata": {},
   "outputs": [],
   "source": [
    "xStringeCevrilmis = str(x)"
   ]
  },
  {
   "cell_type": "code",
   "execution_count": 125,
   "id": "5c37dd87",
   "metadata": {},
   "outputs": [
    {
     "data": {
      "text/plain": [
       "'50'"
      ]
     },
     "execution_count": 125,
     "metadata": {},
     "output_type": "execute_result"
    }
   ],
   "source": [
    "xStringeCevrilmis          # burada da int str'ye çevrilmiş oldu"
   ]
  },
  {
   "cell_type": "code",
   "execution_count": null,
   "id": "3b6ecf74",
   "metadata": {},
   "outputs": [],
   "source": []
  },
  {
   "cell_type": "markdown",
   "id": "2e410e79",
   "metadata": {},
   "source": [
    "length : Herhangi bir string verildiğinde kaç karakter olduğunu söyler"
   ]
  },
  {
   "cell_type": "code",
   "execution_count": 126,
   "id": "a278b1a6",
   "metadata": {},
   "outputs": [
    {
     "data": {
      "text/plain": [
       "4"
      ]
     },
     "execution_count": 126,
     "metadata": {},
     "output_type": "execute_result"
    }
   ],
   "source": [
    "len(benimString)"
   ]
  },
  {
   "cell_type": "code",
   "execution_count": 129,
   "id": "805f8361",
   "metadata": {},
   "outputs": [
    {
     "data": {
      "text/plain": [
       "'Özge Sarıoğlu'"
      ]
     },
     "execution_count": 129,
     "metadata": {},
     "output_type": "execute_result"
    }
   ],
   "source": [
    "benimAdim = \"Özge\"\n",
    "benimSoyadim = \"Sarıoğlu\"\n",
    "benimAdim + \" \" + benimSoyadim"
   ]
  },
  {
   "cell_type": "markdown",
   "id": "bedaa164",
   "metadata": {},
   "source": [
    "## Stringlerde Index"
   ]
  },
  {
   "cell_type": "code",
   "execution_count": 130,
   "id": "4974fd58",
   "metadata": {},
   "outputs": [],
   "source": [
    "benimTamIsmim = \"Özge Sarıoğlu\""
   ]
  },
  {
   "cell_type": "code",
   "execution_count": 132,
   "id": "3d46cefc",
   "metadata": {},
   "outputs": [
    {
     "data": {
      "text/plain": [
       "'Ö'"
      ]
     },
     "execution_count": 132,
     "metadata": {},
     "output_type": "execute_result"
    }
   ],
   "source": [
    "benimTamIsmim[0]                  # 0.indeksi bulur, bu da ilk harftir. Yani indeksler 0'dan başlar."
   ]
  },
  {
   "cell_type": "code",
   "execution_count": 134,
   "id": "1a7fe743",
   "metadata": {},
   "outputs": [
    {
     "data": {
      "text/plain": [
       "13"
      ]
     },
     "execution_count": 134,
     "metadata": {},
     "output_type": "execute_result"
    }
   ],
   "source": [
    "len(benimTamIsmim)               # 13 karakter var."
   ]
  },
  {
   "cell_type": "code",
   "execution_count": 135,
   "id": "e57abb6b",
   "metadata": {},
   "outputs": [
    {
     "data": {
      "text/plain": [
       "'u'"
      ]
     },
     "execution_count": 135,
     "metadata": {},
     "output_type": "execute_result"
    }
   ],
   "source": [
    "benimTamIsmim[-1]                # Son karakterlerden başlamak için -1'den başlarız."
   ]
  },
  {
   "cell_type": "code",
   "execution_count": 136,
   "id": "be36fa7a",
   "metadata": {},
   "outputs": [],
   "source": [
    "# ya da "
   ]
  },
  {
   "cell_type": "code",
   "execution_count": 138,
   "id": "0a080ca0",
   "metadata": {},
   "outputs": [
    {
     "data": {
      "text/plain": [
       "'u'"
      ]
     },
     "execution_count": 138,
     "metadata": {},
     "output_type": "execute_result"
    }
   ],
   "source": [
    "benimTamIsmim[len(benimTamIsmim)-1]"
   ]
  },
  {
   "cell_type": "code",
   "execution_count": null,
   "id": "deecb9d2",
   "metadata": {},
   "outputs": [],
   "source": []
  },
  {
   "cell_type": "code",
   "execution_count": 140,
   "id": "04952678",
   "metadata": {},
   "outputs": [],
   "source": [
    "# Sadece belirli kısımları almak için slice kullanırız.\n",
    "# starting index - stopping index - slicing"
   ]
  },
  {
   "cell_type": "code",
   "execution_count": 141,
   "id": "2c0718ac",
   "metadata": {},
   "outputs": [],
   "source": [
    "x = \"turkcell siber güvenlik eğitimi\""
   ]
  },
  {
   "cell_type": "code",
   "execution_count": 142,
   "id": "edffb7bc",
   "metadata": {},
   "outputs": [
    {
     "data": {
      "text/plain": [
       "'urkc'"
      ]
     },
     "execution_count": 142,
     "metadata": {},
     "output_type": "execute_result"
    }
   ],
   "source": [
    "x[1:5]"
   ]
  },
  {
   "cell_type": "code",
   "execution_count": 143,
   "id": "7cc97550",
   "metadata": {},
   "outputs": [
    {
     "data": {
      "text/plain": [
       "'turkcell si'"
      ]
     },
     "execution_count": 143,
     "metadata": {},
     "output_type": "execute_result"
    }
   ],
   "source": [
    "x[:11]             # en baştan 11.ye kadar"
   ]
  },
  {
   "cell_type": "code",
   "execution_count": 144,
   "id": "fcd0b43a",
   "metadata": {},
   "outputs": [],
   "source": [
    "#Step size"
   ]
  },
  {
   "cell_type": "code",
   "execution_count": 145,
   "id": "0a7cc5e6",
   "metadata": {},
   "outputs": [
    {
     "data": {
      "text/plain": [
       "'tklsegeieti'"
      ]
     },
     "execution_count": 145,
     "metadata": {},
     "output_type": "execute_result"
    }
   ],
   "source": [
    "x[::3]             # 3'er 3'er atlayarak gider. "
   ]
  },
  {
   "cell_type": "code",
   "execution_count": 146,
   "id": "562e00ca",
   "metadata": {},
   "outputs": [
    {
     "data": {
      "text/plain": [
       "'cl '"
      ]
     },
     "execution_count": 146,
     "metadata": {},
     "output_type": "execute_result"
    }
   ],
   "source": [
    "x[4:10:2]"
   ]
  },
  {
   "cell_type": "code",
   "execution_count": 148,
   "id": "9bd84b38",
   "metadata": {},
   "outputs": [
    {
     "data": {
      "text/plain": [
       "'imitiğe kilnevüg rebis lleckrut'"
      ]
     },
     "execution_count": 148,
     "metadata": {},
     "output_type": "execute_result"
    }
   ],
   "source": [
    "x[::-1]            # Tersten yazdırır"
   ]
  },
  {
   "cell_type": "code",
   "execution_count": null,
   "id": "89092a31",
   "metadata": {},
   "outputs": [],
   "source": []
  }
 ],
 "metadata": {
  "kernelspec": {
   "display_name": "Python 3 (ipykernel)",
   "language": "python",
   "name": "python3"
  },
  "language_info": {
   "codemirror_mode": {
    "name": "ipython",
    "version": 3
   },
   "file_extension": ".py",
   "mimetype": "text/x-python",
   "name": "python",
   "nbconvert_exporter": "python",
   "pygments_lexer": "ipython3",
   "version": "3.9.7"
  }
 },
 "nbformat": 4,
 "nbformat_minor": 5
}
