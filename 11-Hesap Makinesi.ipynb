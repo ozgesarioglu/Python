{
 "cells": [
  {
   "cell_type": "code",
   "execution_count": null,
   "id": "fd1961d4",
   "metadata": {},
   "outputs": [],
   "source": [
    "def hesapla(x, y, islem):\n",
    "    if islem not in \"+-*/\":\n",
    "        return \"Lütfen işlemleri düzgün seçiniz: +-*/\"\n",
    "    \n",
    "    if islem == \"+\":\n",
    "        return x+y\n",
    "    elif islem == \"-\":\n",
    "        return x-y\n",
    "    elif islem == \"*\":\n",
    "        return x*y\n",
    "    elif islem == \"/\":\n",
    "        return x/y\n",
    "     \n",
    "while True:\n",
    "    try:\n",
    "        x = int(input(\"İlk sayıyı giriniz: \"))\n",
    "        y = int(input(\"İkinci sayıyı giriniz: \"))\n",
    "        islem = input(\"İşleminizi seçiniz: +-*/\")\n",
    "        print(hesapla(x, y, islem))\n",
    "    except:\n",
    "        print(\"Lütfen sayıları düzgün giriniz\")\n",
    "    else:\n",
    "        print(\"Görüşmek üzere\")\n",
    "        break"
   ]
  },
  {
   "cell_type": "code",
   "execution_count": null,
   "id": "a63b89fa",
   "metadata": {},
   "outputs": [],
   "source": []
  },
  {
   "cell_type": "code",
   "execution_count": null,
   "id": "d8e92b0a",
   "metadata": {},
   "outputs": [],
   "source": []
  }
 ],
 "metadata": {
  "kernelspec": {
   "display_name": "Python 3 (ipykernel)",
   "language": "python",
   "name": "python3"
  },
  "language_info": {
   "codemirror_mode": {
    "name": "ipython",
    "version": 3
   },
   "file_extension": ".py",
   "mimetype": "text/x-python",
   "name": "python",
   "nbconvert_exporter": "python",
   "pygments_lexer": "ipython3",
   "version": "3.9.7"
  }
 },
 "nbformat": 4,
 "nbformat_minor": 5
}
