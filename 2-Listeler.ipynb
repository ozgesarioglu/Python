{
 "cells": [
  {
   "cell_type": "markdown",
   "id": "bb33be74",
   "metadata": {},
   "source": [
    "# Listeler"
   ]
  },
  {
   "cell_type": "code",
   "execution_count": 1,
   "id": "ff826429",
   "metadata": {},
   "outputs": [],
   "source": [
    "benimString = \"Özge Sarıoğlu\""
   ]
  },
  {
   "cell_type": "code",
   "execution_count": 3,
   "id": "c46bece6",
   "metadata": {},
   "outputs": [
    {
     "ename": "TypeError",
     "evalue": "'str' object does not support item assignment",
     "output_type": "error",
     "traceback": [
      "\u001b[1;31m---------------------------------------------------------------------------\u001b[0m",
      "\u001b[1;31mTypeError\u001b[0m                                 Traceback (most recent call last)",
      "\u001b[1;32m~\\AppData\\Local\\Temp/ipykernel_54656/2462265620.py\u001b[0m in \u001b[0;36m<module>\u001b[1;34m\u001b[0m\n\u001b[1;32m----> 1\u001b[1;33m \u001b[0mbenimString\u001b[0m\u001b[1;33m[\u001b[0m\u001b[1;36m0\u001b[0m\u001b[1;33m]\u001b[0m \u001b[1;33m=\u001b[0m \u001b[1;34m\"b\"\u001b[0m    \u001b[1;31m# Bu duruma immutability(değişmezlik ilkesi) denir. Stringler değiştirilemez.\u001b[0m\u001b[1;33m\u001b[0m\u001b[1;33m\u001b[0m\u001b[0m\n\u001b[0m",
      "\u001b[1;31mTypeError\u001b[0m: 'str' object does not support item assignment"
     ]
    }
   ],
   "source": [
    "benimString[0] = \"b\"         # Bu duruma immutability(değişmezlik ilkesi) denir. Stringler değiştirilemez."
   ]
  },
  {
   "cell_type": "code",
   "execution_count": 4,
   "id": "b5e7ebcd",
   "metadata": {},
   "outputs": [],
   "source": [
    "# 10000 sayı çektiğimiz zaman bunları aynı yerde tutmak için listeleri kullanırız\n",
    "# Farklı veri yapılarını tek bir yapı içerisinde tutabiliyoruz."
   ]
  },
  {
   "cell_type": "code",
   "execution_count": 12,
   "id": "9bf06358",
   "metadata": {},
   "outputs": [],
   "source": [
    "benimListem = [10,20,30,40,50]           # Birden fazla elemanı tek bir yapı içerisinde bulunması durumuna koleksiyon da denir. \n",
    "                                         # Liste koleksiyonun en başında bulunur."
   ]
  },
  {
   "cell_type": "code",
   "execution_count": 13,
   "id": "45560add",
   "metadata": {},
   "outputs": [
    {
     "data": {
      "text/plain": [
       "20"
      ]
     },
     "execution_count": 13,
     "metadata": {},
     "output_type": "execute_result"
    }
   ],
   "source": [
    "benimListem[1]"
   ]
  },
  {
   "cell_type": "code",
   "execution_count": 16,
   "id": "88d9ecae",
   "metadata": {},
   "outputs": [
    {
     "data": {
      "text/plain": [
       "100"
      ]
     },
     "execution_count": 16,
     "metadata": {},
     "output_type": "execute_result"
    }
   ],
   "source": [
    "benimListem[1] = 100\n",
    "benimListem[1]"
   ]
  },
  {
   "cell_type": "code",
   "execution_count": 70,
   "id": "88b9287c",
   "metadata": {},
   "outputs": [
    {
     "data": {
      "text/plain": [
       "[10, 100, 30, 40, 50]"
      ]
     },
     "execution_count": 70,
     "metadata": {},
     "output_type": "execute_result"
    }
   ],
   "source": [
    "benimListem                 # Değişikliğe izin verdi."
   ]
  },
  {
   "cell_type": "code",
   "execution_count": 72,
   "id": "038d8b50",
   "metadata": {},
   "outputs": [],
   "source": [
    "x = 10\n",
    "y = 20"
   ]
  },
  {
   "cell_type": "code",
   "execution_count": 74,
   "id": "d869ff8f",
   "metadata": {},
   "outputs": [],
   "source": [
    "numaraListem = [x,y]    # Liste tanımlaması diğer yolu"
   ]
  },
  {
   "cell_type": "code",
   "execution_count": 75,
   "id": "295819d4",
   "metadata": {},
   "outputs": [
    {
     "data": {
      "text/plain": [
       "[10, 20]"
      ]
     },
     "execution_count": 75,
     "metadata": {},
     "output_type": "execute_result"
    }
   ],
   "source": [
    "numaraListem"
   ]
  },
  {
   "cell_type": "code",
   "execution_count": 76,
   "id": "c3dda449",
   "metadata": {},
   "outputs": [
    {
     "data": {
      "text/plain": [
       "30"
      ]
     },
     "execution_count": 76,
     "metadata": {},
     "output_type": "execute_result"
    }
   ],
   "source": [
    "numaraListem[0] * 3"
   ]
  },
  {
   "cell_type": "code",
   "execution_count": 77,
   "id": "fe056004",
   "metadata": {},
   "outputs": [
    {
     "data": {
      "text/plain": [
       "int"
      ]
     },
     "execution_count": 77,
     "metadata": {},
     "output_type": "execute_result"
    }
   ],
   "source": [
    "type(numaraListem[0])"
   ]
  },
  {
   "cell_type": "code",
   "execution_count": 78,
   "id": "d87d4ad8",
   "metadata": {},
   "outputs": [
    {
     "data": {
      "text/plain": [
       "[10, 20, 30]"
      ]
     },
     "execution_count": 78,
     "metadata": {},
     "output_type": "execute_result"
    }
   ],
   "source": [
    "numaraListem.append(30)\n",
    "numaraListem"
   ]
  },
  {
   "cell_type": "code",
   "execution_count": 79,
   "id": "6b128e73",
   "metadata": {},
   "outputs": [
    {
     "data": {
      "text/plain": [
       "3"
      ]
     },
     "execution_count": 79,
     "metadata": {},
     "output_type": "execute_result"
    }
   ],
   "source": [
    "len(numaraListem)"
   ]
  },
  {
   "cell_type": "code",
   "execution_count": 80,
   "id": "7984d636",
   "metadata": {},
   "outputs": [
    {
     "ename": "TypeError",
     "evalue": "list.count() takes exactly one argument (0 given)",
     "output_type": "error",
     "traceback": [
      "\u001b[1;31m---------------------------------------------------------------------------\u001b[0m",
      "\u001b[1;31mTypeError\u001b[0m                                 Traceback (most recent call last)",
      "\u001b[1;32m~\\AppData\\Local\\Temp/ipykernel_54656/1145284572.py\u001b[0m in \u001b[0;36m<module>\u001b[1;34m\u001b[0m\n\u001b[1;32m----> 1\u001b[1;33m \u001b[0mnumaraListem\u001b[0m\u001b[1;33m.\u001b[0m\u001b[0mcount\u001b[0m\u001b[1;33m(\u001b[0m\u001b[1;33m)\u001b[0m  \u001b[1;31m# bu şekilde çalışmaz.count(), liste içinde belli bir elemandan kaç tane olduğunu sayar.\u001b[0m\u001b[1;33m\u001b[0m\u001b[1;33m\u001b[0m\u001b[0m\n\u001b[0m",
      "\u001b[1;31mTypeError\u001b[0m: list.count() takes exactly one argument (0 given)"
     ]
    }
   ],
   "source": [
    "numaraListem.count()  # bu şekilde çalışmaz.count(), liste içinde belli bir elemandan kaç tane olduğunu sayar."
   ]
  },
  {
   "cell_type": "code",
   "execution_count": 81,
   "id": "d6a4ffee",
   "metadata": {},
   "outputs": [],
   "source": [
    "numaraListem.append(10)"
   ]
  },
  {
   "cell_type": "code",
   "execution_count": 82,
   "id": "06ff1804",
   "metadata": {},
   "outputs": [
    {
     "data": {
      "text/plain": [
       "[10, 20, 30, 10]"
      ]
     },
     "execution_count": 82,
     "metadata": {},
     "output_type": "execute_result"
    }
   ],
   "source": [
    "numaraListem"
   ]
  },
  {
   "cell_type": "code",
   "execution_count": 83,
   "id": "9805b18c",
   "metadata": {},
   "outputs": [
    {
     "data": {
      "text/plain": [
       "2"
      ]
     },
     "execution_count": 83,
     "metadata": {},
     "output_type": "execute_result"
    }
   ],
   "source": [
    "numaraListem.count(10)    # Listede 10 2 defa yer almış"
   ]
  },
  {
   "cell_type": "code",
   "execution_count": 84,
   "id": "27d533ae",
   "metadata": {},
   "outputs": [
    {
     "data": {
      "text/plain": [
       "10"
      ]
     },
     "execution_count": 84,
     "metadata": {},
     "output_type": "execute_result"
    }
   ],
   "source": [
    "numaraListem.pop()        # pop, son elemanı siler."
   ]
  },
  {
   "cell_type": "code",
   "execution_count": 85,
   "id": "3059c223",
   "metadata": {},
   "outputs": [
    {
     "data": {
      "text/plain": [
       "[10, 20, 30]"
      ]
     },
     "execution_count": 85,
     "metadata": {},
     "output_type": "execute_result"
    }
   ],
   "source": [
    "numaraListem"
   ]
  },
  {
   "cell_type": "code",
   "execution_count": 86,
   "id": "9ee506fb",
   "metadata": {},
   "outputs": [
    {
     "data": {
      "text/plain": [
       "[30, 20, 10]"
      ]
     },
     "execution_count": 86,
     "metadata": {},
     "output_type": "execute_result"
    }
   ],
   "source": [
    "numaraListem.reverse()       # reverse, tersine çevirir.\n",
    "numaraListem              "
   ]
  },
  {
   "cell_type": "code",
   "execution_count": 87,
   "id": "b704685e",
   "metadata": {},
   "outputs": [
    {
     "data": {
      "text/plain": [
       "[30, 10]"
      ]
     },
     "execution_count": 87,
     "metadata": {},
     "output_type": "execute_result"
    }
   ],
   "source": [
    "numaraListem.remove(20)    # remove, seçileni çıkartır.\n",
    "numaraListem"
   ]
  },
  {
   "cell_type": "code",
   "execution_count": null,
   "id": "fb9efd5d",
   "metadata": {},
   "outputs": [],
   "source": []
  },
  {
   "cell_type": "code",
   "execution_count": 92,
   "id": "22006c3c",
   "metadata": {},
   "outputs": [],
   "source": [
    "benimStringListem = [\"ayşe\",\"ipek\",\"masal\"]"
   ]
  },
  {
   "cell_type": "code",
   "execution_count": 93,
   "id": "74a3bd9f",
   "metadata": {},
   "outputs": [
    {
     "data": {
      "text/plain": [
       "list"
      ]
     },
     "execution_count": 93,
     "metadata": {},
     "output_type": "execute_result"
    }
   ],
   "source": [
    "type(benimStringListem)"
   ]
  },
  {
   "cell_type": "code",
   "execution_count": 94,
   "id": "04323d75",
   "metadata": {},
   "outputs": [
    {
     "data": {
      "text/plain": [
       "['ayşe', 'ipek', 'masal', 'zeynep']"
      ]
     },
     "execution_count": 94,
     "metadata": {},
     "output_type": "execute_result"
    }
   ],
   "source": [
    "benimStringListem.append(\"zeynep\")\n",
    "benimStringListem"
   ]
  },
  {
   "cell_type": "code",
   "execution_count": 95,
   "id": "996d40bb",
   "metadata": {},
   "outputs": [],
   "source": [
    "# liste içerisinde birden fazla veri türü olabilir yani kapsayıcıdır."
   ]
  },
  {
   "cell_type": "code",
   "execution_count": 99,
   "id": "3461e2d7",
   "metadata": {},
   "outputs": [],
   "source": [
    "baskaListe = [\"hüseyin\",\"aslı\",\"havva\"]"
   ]
  },
  {
   "cell_type": "code",
   "execution_count": 100,
   "id": "da90dd89",
   "metadata": {},
   "outputs": [
    {
     "data": {
      "text/plain": [
       "['ayşe', 'ipek', 'masal', 'zeynep', 'hüseyin', 'aslı', 'havva']"
      ]
     },
     "execution_count": 100,
     "metadata": {},
     "output_type": "execute_result"
    }
   ],
   "source": [
    "listeToplama = benimStringListem + baskaListe\n",
    "listeToplama"
   ]
  },
  {
   "cell_type": "code",
   "execution_count": 101,
   "id": "bdb8db6c",
   "metadata": {},
   "outputs": [
    {
     "data": {
      "text/plain": [
       "['ayşe', 'ipek', 'masal', 'zeynep', 'ayşe', 'ipek', 'masal', 'zeynep']"
      ]
     },
     "execution_count": 101,
     "metadata": {},
     "output_type": "execute_result"
    }
   ],
   "source": [
    "benimStringListem * 2"
   ]
  },
  {
   "cell_type": "code",
   "execution_count": 102,
   "id": "4cfbe034",
   "metadata": {},
   "outputs": [
    {
     "data": {
      "text/plain": [
       "['ayşe', 'ipek', 'masal', 'zeynep', 'hüseyin', 'aslı', 'havva']"
      ]
     },
     "execution_count": 102,
     "metadata": {},
     "output_type": "execute_result"
    }
   ],
   "source": [
    "listeToplama"
   ]
  },
  {
   "cell_type": "code",
   "execution_count": 104,
   "id": "63ebdcef",
   "metadata": {},
   "outputs": [
    {
     "data": {
      "text/plain": [
       "['aslı', 'ayşe', 'havva', 'hüseyin', 'ipek', 'masal', 'zeynep']"
      ]
     },
     "execution_count": 104,
     "metadata": {},
     "output_type": "execute_result"
    }
   ],
   "source": [
    "listeToplama.sort()         \n",
    "listeToplama"
   ]
  },
  {
   "cell_type": "code",
   "execution_count": 112,
   "id": "c0e184e7",
   "metadata": {},
   "outputs": [],
   "source": [
    "karisikListe = [1,100,\"ayşe\",10.4,3.145]"
   ]
  },
  {
   "cell_type": "code",
   "execution_count": 106,
   "id": "4312ae31",
   "metadata": {},
   "outputs": [
    {
     "data": {
      "text/plain": [
       "list"
      ]
     },
     "execution_count": 106,
     "metadata": {},
     "output_type": "execute_result"
    }
   ],
   "source": [
    "type(karisikListe)"
   ]
  },
  {
   "cell_type": "code",
   "execution_count": 107,
   "id": "60867cf6",
   "metadata": {},
   "outputs": [
    {
     "data": {
      "text/plain": [
       "1"
      ]
     },
     "execution_count": 107,
     "metadata": {},
     "output_type": "execute_result"
    }
   ],
   "source": [
    "karisikListe[0]"
   ]
  },
  {
   "cell_type": "code",
   "execution_count": 109,
   "id": "04594180",
   "metadata": {},
   "outputs": [
    {
     "ename": "TypeError",
     "evalue": "'<' not supported between instances of 'str' and 'int'",
     "output_type": "error",
     "traceback": [
      "\u001b[1;31m---------------------------------------------------------------------------\u001b[0m",
      "\u001b[1;31mTypeError\u001b[0m                                 Traceback (most recent call last)",
      "\u001b[1;32m~\\AppData\\Local\\Temp/ipykernel_54656/1013611657.py\u001b[0m in \u001b[0;36m<module>\u001b[1;34m\u001b[0m\n\u001b[1;32m----> 1\u001b[1;33m \u001b[0mkarisikListe\u001b[0m\u001b[1;33m.\u001b[0m\u001b[0msort\u001b[0m\u001b[1;33m(\u001b[0m\u001b[1;33m)\u001b[0m         \u001b[1;31m# farkli veri tiplerini sıralayamaz.\u001b[0m\u001b[1;33m\u001b[0m\u001b[1;33m\u001b[0m\u001b[0m\n\u001b[0m",
      "\u001b[1;31mTypeError\u001b[0m: '<' not supported between instances of 'str' and 'int'"
     ]
    }
   ],
   "source": [
    "karisikListe.sort()         # farkli veri tiplerini sıralayamaz."
   ]
  },
  {
   "cell_type": "code",
   "execution_count": 113,
   "id": "2212a43a",
   "metadata": {},
   "outputs": [
    {
     "data": {
      "text/plain": [
       "[3.145, 10.4, 'ayşe', 100, 1]"
      ]
     },
     "execution_count": 113,
     "metadata": {},
     "output_type": "execute_result"
    }
   ],
   "source": [
    "karisikListe.reverse()\n",
    "karisikListe"
   ]
  },
  {
   "cell_type": "code",
   "execution_count": 114,
   "id": "e9bfa8a2",
   "metadata": {},
   "outputs": [],
   "source": [
    "ilkEleman = karisikListe[0]"
   ]
  },
  {
   "cell_type": "code",
   "execution_count": 115,
   "id": "7c6ddd9a",
   "metadata": {},
   "outputs": [
    {
     "data": {
      "text/plain": [
       "float"
      ]
     },
     "execution_count": 115,
     "metadata": {},
     "output_type": "execute_result"
    }
   ],
   "source": [
    "type(ilkEleman)"
   ]
  },
  {
   "cell_type": "code",
   "execution_count": 116,
   "id": "cac98444",
   "metadata": {},
   "outputs": [],
   "source": [
    "ucuncuEleman = karisikListe[2]"
   ]
  },
  {
   "cell_type": "code",
   "execution_count": 117,
   "id": "2b238a37",
   "metadata": {},
   "outputs": [
    {
     "data": {
      "text/plain": [
       "str"
      ]
     },
     "execution_count": 117,
     "metadata": {},
     "output_type": "execute_result"
    }
   ],
   "source": [
    "type(ucuncuEleman)"
   ]
  },
  {
   "cell_type": "markdown",
   "id": "ec829ce2",
   "metadata": {},
   "source": [
    "### Nested List -> İç içe geçmiş liste"
   ]
  },
  {
   "cell_type": "code",
   "execution_count": 118,
   "id": "36e97ea4",
   "metadata": {},
   "outputs": [],
   "source": [
    "nestedListOrnek = [1,10,\"özge\",[10,20,30,40],[\"a\",\"b\"]]"
   ]
  },
  {
   "cell_type": "code",
   "execution_count": 120,
   "id": "ef251a04",
   "metadata": {},
   "outputs": [
    {
     "data": {
      "text/plain": [
       "[10, 20, 30, 40]"
      ]
     },
     "execution_count": 120,
     "metadata": {},
     "output_type": "execute_result"
    }
   ],
   "source": [
    "nestedListOrnek[3]"
   ]
  },
  {
   "cell_type": "code",
   "execution_count": 121,
   "id": "f2140709",
   "metadata": {},
   "outputs": [
    {
     "data": {
      "text/plain": [
       "'b'"
      ]
     },
     "execution_count": 121,
     "metadata": {},
     "output_type": "execute_result"
    }
   ],
   "source": [
    "nestedListOrnek[4][1]"
   ]
  },
  {
   "cell_type": "code",
   "execution_count": 123,
   "id": "650d6117",
   "metadata": {},
   "outputs": [
    {
     "data": {
      "text/plain": [
       "30"
      ]
     },
     "execution_count": 123,
     "metadata": {},
     "output_type": "execute_result"
    }
   ],
   "source": [
    "nestedListOrnek[3][2]"
   ]
  },
  {
   "cell_type": "code",
   "execution_count": 124,
   "id": "a09ad53f",
   "metadata": {},
   "outputs": [],
   "source": [
    "# slicing işlemi listelerde de geçerli"
   ]
  },
  {
   "cell_type": "code",
   "execution_count": 125,
   "id": "fd69dcbf",
   "metadata": {},
   "outputs": [],
   "source": [
    "numaraListesi=[0,10,20,3,4,5,6,7,8,9]"
   ]
  },
  {
   "cell_type": "code",
   "execution_count": 126,
   "id": "8fb360aa",
   "metadata": {},
   "outputs": [
    {
     "data": {
      "text/plain": [
       "[3, 4, 5, 6, 7]"
      ]
     },
     "execution_count": 126,
     "metadata": {},
     "output_type": "execute_result"
    }
   ],
   "source": [
    "numaraListesi[3:8]"
   ]
  },
  {
   "cell_type": "code",
   "execution_count": 127,
   "id": "cf112e68",
   "metadata": {},
   "outputs": [
    {
     "data": {
      "text/plain": [
       "[0, 3, 6, 9]"
      ]
     },
     "execution_count": 127,
     "metadata": {},
     "output_type": "execute_result"
    }
   ],
   "source": [
    "numaraListesi[::3]"
   ]
  },
  {
   "cell_type": "code",
   "execution_count": null,
   "id": "0632db88",
   "metadata": {},
   "outputs": [],
   "source": []
  }
 ],
 "metadata": {
  "kernelspec": {
   "display_name": "Python 3 (ipykernel)",
   "language": "python",
   "name": "python3"
  },
  "language_info": {
   "codemirror_mode": {
    "name": "ipython",
    "version": 3
   },
   "file_extension": ".py",
   "mimetype": "text/x-python",
   "name": "python",
   "nbconvert_exporter": "python",
   "pygments_lexer": "ipython3",
   "version": "3.9.7"
  }
 },
 "nbformat": 4,
 "nbformat_minor": 5
}
