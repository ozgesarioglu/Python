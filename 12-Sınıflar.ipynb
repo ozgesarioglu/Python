{
 "cells": [
  {
   "cell_type": "code",
   "execution_count": 1,
   "id": "177303c7",
   "metadata": {},
   "outputs": [],
   "source": [
    "benimSozluk = dict()"
   ]
  },
  {
   "cell_type": "code",
   "execution_count": 2,
   "id": "f4c8ae37",
   "metadata": {},
   "outputs": [],
   "source": [
    "benimSozluk[\"anahtar\"] = \"değer\""
   ]
  },
  {
   "cell_type": "code",
   "execution_count": 3,
   "id": "0450c8cd",
   "metadata": {},
   "outputs": [
    {
     "data": {
      "text/plain": [
       "{'anahtar': 'değer'}"
      ]
     },
     "execution_count": 3,
     "metadata": {},
     "output_type": "execute_result"
    }
   ],
   "source": [
    "benimSozluk"
   ]
  },
  {
   "cell_type": "code",
   "execution_count": 4,
   "id": "62fcc0df",
   "metadata": {},
   "outputs": [
    {
     "name": "stdout",
     "output_type": "stream",
     "text": [
      "Help on class dict in module builtins:\n",
      "\n",
      "class dict(object)\n",
      " |  dict() -> new empty dictionary\n",
      " |  dict(mapping) -> new dictionary initialized from a mapping object's\n",
      " |      (key, value) pairs\n",
      " |  dict(iterable) -> new dictionary initialized as if via:\n",
      " |      d = {}\n",
      " |      for k, v in iterable:\n",
      " |          d[k] = v\n",
      " |  dict(**kwargs) -> new dictionary initialized with the name=value pairs\n",
      " |      in the keyword argument list.  For example:  dict(one=1, two=2)\n",
      " |  \n",
      " |  Built-in subclasses:\n",
      " |      StgDict\n",
      " |  \n",
      " |  Methods defined here:\n",
      " |  \n",
      " |  __contains__(self, key, /)\n",
      " |      True if the dictionary has the specified key, else False.\n",
      " |  \n",
      " |  __delitem__(self, key, /)\n",
      " |      Delete self[key].\n",
      " |  \n",
      " |  __eq__(self, value, /)\n",
      " |      Return self==value.\n",
      " |  \n",
      " |  __ge__(self, value, /)\n",
      " |      Return self>=value.\n",
      " |  \n",
      " |  __getattribute__(self, name, /)\n",
      " |      Return getattr(self, name).\n",
      " |  \n",
      " |  __getitem__(...)\n",
      " |      x.__getitem__(y) <==> x[y]\n",
      " |  \n",
      " |  __gt__(self, value, /)\n",
      " |      Return self>value.\n",
      " |  \n",
      " |  __init__(self, /, *args, **kwargs)\n",
      " |      Initialize self.  See help(type(self)) for accurate signature.\n",
      " |  \n",
      " |  __ior__(self, value, /)\n",
      " |      Return self|=value.\n",
      " |  \n",
      " |  __iter__(self, /)\n",
      " |      Implement iter(self).\n",
      " |  \n",
      " |  __le__(self, value, /)\n",
      " |      Return self<=value.\n",
      " |  \n",
      " |  __len__(self, /)\n",
      " |      Return len(self).\n",
      " |  \n",
      " |  __lt__(self, value, /)\n",
      " |      Return self<value.\n",
      " |  \n",
      " |  __ne__(self, value, /)\n",
      " |      Return self!=value.\n",
      " |  \n",
      " |  __or__(self, value, /)\n",
      " |      Return self|value.\n",
      " |  \n",
      " |  __repr__(self, /)\n",
      " |      Return repr(self).\n",
      " |  \n",
      " |  __reversed__(self, /)\n",
      " |      Return a reverse iterator over the dict keys.\n",
      " |  \n",
      " |  __ror__(self, value, /)\n",
      " |      Return value|self.\n",
      " |  \n",
      " |  __setitem__(self, key, value, /)\n",
      " |      Set self[key] to value.\n",
      " |  \n",
      " |  __sizeof__(...)\n",
      " |      D.__sizeof__() -> size of D in memory, in bytes\n",
      " |  \n",
      " |  clear(...)\n",
      " |      D.clear() -> None.  Remove all items from D.\n",
      " |  \n",
      " |  copy(...)\n",
      " |      D.copy() -> a shallow copy of D\n",
      " |  \n",
      " |  get(self, key, default=None, /)\n",
      " |      Return the value for key if key is in the dictionary, else default.\n",
      " |  \n",
      " |  items(...)\n",
      " |      D.items() -> a set-like object providing a view on D's items\n",
      " |  \n",
      " |  keys(...)\n",
      " |      D.keys() -> a set-like object providing a view on D's keys\n",
      " |  \n",
      " |  pop(...)\n",
      " |      D.pop(k[,d]) -> v, remove specified key and return the corresponding value.\n",
      " |      \n",
      " |      If key is not found, default is returned if given, otherwise KeyError is raised\n",
      " |  \n",
      " |  popitem(self, /)\n",
      " |      Remove and return a (key, value) pair as a 2-tuple.\n",
      " |      \n",
      " |      Pairs are returned in LIFO (last-in, first-out) order.\n",
      " |      Raises KeyError if the dict is empty.\n",
      " |  \n",
      " |  setdefault(self, key, default=None, /)\n",
      " |      Insert key with a value of default if key is not in the dictionary.\n",
      " |      \n",
      " |      Return the value for key if key is in the dictionary, else default.\n",
      " |  \n",
      " |  update(...)\n",
      " |      D.update([E, ]**F) -> None.  Update D from dict/iterable E and F.\n",
      " |      If E is present and has a .keys() method, then does:  for k in E: D[k] = E[k]\n",
      " |      If E is present and lacks a .keys() method, then does:  for k, v in E: D[k] = v\n",
      " |      In either case, this is followed by: for k in F:  D[k] = F[k]\n",
      " |  \n",
      " |  values(...)\n",
      " |      D.values() -> an object providing a view on D's values\n",
      " |  \n",
      " |  ----------------------------------------------------------------------\n",
      " |  Class methods defined here:\n",
      " |  \n",
      " |  __class_getitem__(...) from builtins.type\n",
      " |      See PEP 585\n",
      " |  \n",
      " |  fromkeys(iterable, value=None, /) from builtins.type\n",
      " |      Create a new dictionary with keys from iterable and values set to value.\n",
      " |  \n",
      " |  ----------------------------------------------------------------------\n",
      " |  Static methods defined here:\n",
      " |  \n",
      " |  __new__(*args, **kwargs) from builtins.type\n",
      " |      Create and return a new object.  See help(type) for accurate signature.\n",
      " |  \n",
      " |  ----------------------------------------------------------------------\n",
      " |  Data and other attributes defined here:\n",
      " |  \n",
      " |  __hash__ = None\n",
      "\n"
     ]
    }
   ],
   "source": [
    " help(dict)"
   ]
  },
  {
   "cell_type": "code",
   "execution_count": null,
   "id": "db7209cb",
   "metadata": {},
   "outputs": [],
   "source": []
  },
  {
   "cell_type": "code",
   "execution_count": 5,
   "id": "365cc655",
   "metadata": {},
   "outputs": [],
   "source": [
    "# Sınıflar aslında bizim oluşturmak,istediğimiz objelerin genel yapısını, \n",
    "# planını, farklı metotlarını, özelliklerini ortaya koyan yapılardır ve bu yapılara\n",
    "# uygun örneklemler oluşturulur"
   ]
  },
  {
   "cell_type": "code",
   "execution_count": null,
   "id": "d896a7e4",
   "metadata": {},
   "outputs": [],
   "source": []
  },
  {
   "cell_type": "code",
   "execution_count": 6,
   "id": "ea92154b",
   "metadata": {},
   "outputs": [],
   "source": [
    "meyveAdi = \"Elma\"\n",
    "meyveKalorisi = 100\n",
    "meyveRengi = \"Kırmızı\"          # bu şekilde tek tek yapmak yerine sınıf oluşturalım"
   ]
  },
  {
   "cell_type": "code",
   "execution_count": 7,
   "id": "ec74ef58",
   "metadata": {},
   "outputs": [],
   "source": [
    "# instance(örnek) & attribute(nitelik) & instantiate(somutlaştır) & init-initialize"
   ]
  },
  {
   "cell_type": "code",
   "execution_count": 8,
   "id": "daa95f4d",
   "metadata": {},
   "outputs": [],
   "source": [
    "# class isimleri büyük harfle yazılır"
   ]
  },
  {
   "cell_type": "code",
   "execution_count": 9,
   "id": "cd83c85a",
   "metadata": {},
   "outputs": [],
   "source": [
    "class Meyve():            \n",
    "    \n",
    "    isim = \"\""
   ]
  },
  {
   "cell_type": "code",
   "execution_count": 10,
   "id": "8cf822f4",
   "metadata": {},
   "outputs": [],
   "source": [
    "elma = Meyve()"
   ]
  },
  {
   "cell_type": "code",
   "execution_count": 11,
   "id": "e817a26d",
   "metadata": {},
   "outputs": [
    {
     "data": {
      "text/plain": [
       "__main__.Meyve"
      ]
     },
     "execution_count": 11,
     "metadata": {},
     "output_type": "execute_result"
    }
   ],
   "source": [
    "type(elma)                    # iki çizge ile yazılan metot isimleridir"
   ]
  },
  {
   "cell_type": "code",
   "execution_count": 12,
   "id": "281a9189",
   "metadata": {},
   "outputs": [
    {
     "name": "stdout",
     "output_type": "stream",
     "text": [
      "\n"
     ]
    }
   ],
   "source": [
    "print(elma.isim)"
   ]
  },
  {
   "cell_type": "code",
   "execution_count": 13,
   "id": "6080ba93",
   "metadata": {},
   "outputs": [],
   "source": [
    "elma.isim = \"Elma\""
   ]
  },
  {
   "cell_type": "code",
   "execution_count": 14,
   "id": "92f68272",
   "metadata": {},
   "outputs": [
    {
     "name": "stdout",
     "output_type": "stream",
     "text": [
      "Elma\n"
     ]
    }
   ],
   "source": [
    "print(elma.isim)              # değiştirebiliyoruz"
   ]
  },
  {
   "cell_type": "code",
   "execution_count": null,
   "id": "131a9a5f",
   "metadata": {},
   "outputs": [],
   "source": []
  },
  {
   "cell_type": "code",
   "execution_count": 15,
   "id": "e25b1ff2",
   "metadata": {},
   "outputs": [],
   "source": [
    "class Meyve():\n",
    "    isim = \"\"\n",
    "    kalori = 0\n",
    "    renk = \"\""
   ]
  },
  {
   "cell_type": "code",
   "execution_count": 16,
   "id": "cf31fbe2",
   "metadata": {},
   "outputs": [],
   "source": [
    "elma = Meyve()"
   ]
  },
  {
   "cell_type": "code",
   "execution_count": 17,
   "id": "c550086f",
   "metadata": {},
   "outputs": [],
   "source": [
    "elma.isim = \"Elma\"\n",
    "elma.kalori = \"100\"\n",
    "elma.renk = \"Kırmızı\""
   ]
  },
  {
   "cell_type": "code",
   "execution_count": 26,
   "id": "66598f74",
   "metadata": {},
   "outputs": [],
   "source": [
    "# Peki, öncesinde meyve oluşturulur oluşturulmaz  isim, kalori, rengi kullanıcı\n",
    "# vermek zorunda kalsın isteyemez miyiz? -> init ile yapabiliriz."
   ]
  },
  {
   "cell_type": "code",
   "execution_count": null,
   "id": "76686cd8",
   "metadata": {},
   "outputs": [],
   "source": []
  },
  {
   "cell_type": "code",
   "execution_count": 27,
   "id": "a9adc130",
   "metadata": {},
   "outputs": [],
   "source": [
    "class Meyve():\n",
    "    \n",
    "    def __init__(self, isim, kalori, renk):        # self istenecek bir bilgi değil\n",
    "        print(\"init çağırıldı, çalıştırıldı\")\n",
    "        self.isim = isim    # instance'ın isim attribute'i kullanıcının vereceği isme eşit\n",
    "        self.kalori = kalori\n",
    "        self.renk = renk\n",
    "        "
   ]
  },
  {
   "cell_type": "code",
   "execution_count": 28,
   "id": "6088c9c5",
   "metadata": {},
   "outputs": [
    {
     "ename": "TypeError",
     "evalue": "__init__() missing 3 required positional arguments: 'isim', 'kalori', and 'renk'",
     "output_type": "error",
     "traceback": [
      "\u001b[1;31m---------------------------------------------------------------------------\u001b[0m",
      "\u001b[1;31mTypeError\u001b[0m                                 Traceback (most recent call last)",
      "\u001b[1;32m~\\AppData\\Local\\Temp/ipykernel_8316/1345010929.py\u001b[0m in \u001b[0;36m<module>\u001b[1;34m\u001b[0m\n\u001b[1;32m----> 1\u001b[1;33m \u001b[0melma\u001b[0m \u001b[1;33m=\u001b[0m \u001b[0mMeyve\u001b[0m\u001b[1;33m(\u001b[0m\u001b[1;33m)\u001b[0m   \u001b[1;31m# elma bir meyve diyelim, hata verir\u001b[0m\u001b[1;33m\u001b[0m\u001b[1;33m\u001b[0m\u001b[0m\n\u001b[0m",
      "\u001b[1;31mTypeError\u001b[0m: __init__() missing 3 required positional arguments: 'isim', 'kalori', and 'renk'"
     ]
    }
   ],
   "source": [
    "elma = Meyve()   # elma bir meyve diyelim, hata verir"
   ]
  },
  {
   "cell_type": "code",
   "execution_count": 29,
   "id": "fe680afa",
   "metadata": {},
   "outputs": [
    {
     "name": "stdout",
     "output_type": "stream",
     "text": [
      "init çağırıldı, çalıştırıldı\n"
     ]
    }
   ],
   "source": [
    "elma = Meyve(\"Elma\", 100, \"Kırmızı\")"
   ]
  },
  {
   "cell_type": "code",
   "execution_count": 30,
   "id": "70df8d7b",
   "metadata": {},
   "outputs": [
    {
     "data": {
      "text/plain": [
       "'Elma'"
      ]
     },
     "execution_count": 30,
     "metadata": {},
     "output_type": "execute_result"
    }
   ],
   "source": [
    "elma.isim"
   ]
  },
  {
   "cell_type": "code",
   "execution_count": 31,
   "id": "16623276",
   "metadata": {},
   "outputs": [
    {
     "data": {
      "text/plain": [
       "100"
      ]
     },
     "execution_count": 31,
     "metadata": {},
     "output_type": "execute_result"
    }
   ],
   "source": [
    "elma.kalori"
   ]
  },
  {
   "cell_type": "code",
   "execution_count": 32,
   "id": "c39f4956",
   "metadata": {},
   "outputs": [],
   "source": [
    "# Aslında self herhangi bir isim olabilir. instance'a referans olabilir.\n",
    "# self yerine başka bir şey de verilebilir, ancak tavsiye edilmez."
   ]
  },
  {
   "cell_type": "code",
   "execution_count": null,
   "id": "1ab89963",
   "metadata": {},
   "outputs": [],
   "source": []
  },
  {
   "cell_type": "code",
   "execution_count": 37,
   "id": "9c5e87b6",
   "metadata": {},
   "outputs": [],
   "source": [
    "class Meyve():\n",
    "    \n",
    "    def __init__(self, isim, kalori, renk):        # self istenecek bir bilgi değil\n",
    "        print(\"init çağırıldı, çalıştırıldı\")\n",
    "        self.isim = isim    # instance'ın isim attribute'i kullancının vereceği isme eşit\n",
    "        self.kalori = kalori\n",
    "        self.renk = renk\n",
    "    def meyveninRengiNe(self):        # oluşturacağımızı fonk.ın içine parametre olarak selfi koymalıyız\n",
    "        print(f\"meyvenin rengi: {self.renk}\")"
   ]
  },
  {
   "cell_type": "code",
   "execution_count": 38,
   "id": "aec3e8c2",
   "metadata": {},
   "outputs": [
    {
     "data": {
      "text/plain": [
       "'Elma'"
      ]
     },
     "execution_count": 38,
     "metadata": {},
     "output_type": "execute_result"
    }
   ],
   "source": [
    "elma.isim"
   ]
  },
  {
   "cell_type": "code",
   "execution_count": 40,
   "id": "63881b49",
   "metadata": {},
   "outputs": [
    {
     "data": {
      "text/plain": [
       "'Kırmızı'"
      ]
     },
     "execution_count": 40,
     "metadata": {},
     "output_type": "execute_result"
    }
   ],
   "source": [
    "elma.renk"
   ]
  },
  {
   "cell_type": "code",
   "execution_count": 41,
   "id": "7bd486a7",
   "metadata": {},
   "outputs": [
    {
     "ename": "AttributeError",
     "evalue": "'Meyve' object has no attribute 'meyveninRengiNe'",
     "output_type": "error",
     "traceback": [
      "\u001b[1;31m---------------------------------------------------------------------------\u001b[0m",
      "\u001b[1;31mAttributeError\u001b[0m                            Traceback (most recent call last)",
      "\u001b[1;32m~\\AppData\\Local\\Temp/ipykernel_8316/1307989897.py\u001b[0m in \u001b[0;36m<module>\u001b[1;34m\u001b[0m\n\u001b[1;32m----> 1\u001b[1;33m \u001b[0melma\u001b[0m\u001b[1;33m.\u001b[0m\u001b[0mmeyveninRengiNe\u001b[0m\u001b[1;33m(\u001b[0m\u001b[1;33m)\u001b[0m\u001b[1;33m\u001b[0m\u001b[1;33m\u001b[0m\u001b[0m\n\u001b[0m",
      "\u001b[1;31mAttributeError\u001b[0m: 'Meyve' object has no attribute 'meyveninRengiNe'"
     ]
    }
   ],
   "source": [
    "elma.meyveninRengiNe()        # ?"
   ]
  },
  {
   "cell_type": "code",
   "execution_count": null,
   "id": "6deb726d",
   "metadata": {},
   "outputs": [],
   "source": []
  },
  {
   "cell_type": "code",
   "execution_count": null,
   "id": "4f3d2bc9",
   "metadata": {},
   "outputs": [],
   "source": [
    "classKedi():\n",
    "    \n",
    "    def __init__(self, yas, ):     #istemediğimiz bir parametreyi de instance'a parametre olarak atayabiliriz.\n",
    "        self.yas = yas"
   ]
  }
 ],
 "metadata": {
  "kernelspec": {
   "display_name": "Python 3 (ipykernel)",
   "language": "python",
   "name": "python3"
  },
  "language_info": {
   "codemirror_mode": {
    "name": "ipython",
    "version": 3
   },
   "file_extension": ".py",
   "mimetype": "text/x-python",
   "name": "python",
   "nbconvert_exporter": "python",
   "pygments_lexer": "ipython3",
   "version": "3.9.7"
  }
 },
 "nbformat": 4,
 "nbformat_minor": 5
}
