{
 "cells": [
  {
   "cell_type": "markdown",
   "id": "6b14141b",
   "metadata": {},
   "source": [
    "# Döngüler"
   ]
  },
  {
   "cell_type": "code",
   "execution_count": 1,
   "id": "06d68d80",
   "metadata": {},
   "outputs": [],
   "source": [
    "benimListem = [40,50,60,70,80,90]"
   ]
  },
  {
   "cell_type": "code",
   "execution_count": 2,
   "id": "f00465f7",
   "metadata": {},
   "outputs": [
    {
     "data": {
      "text/plain": [
       "48.0"
      ]
     },
     "execution_count": 2,
     "metadata": {},
     "output_type": "execute_result"
    }
   ],
   "source": [
    "benimListem[0] / 5 * 6"
   ]
  },
  {
   "cell_type": "code",
   "execution_count": 3,
   "id": "b5bae7e5",
   "metadata": {},
   "outputs": [
    {
     "data": {
      "text/plain": [
       "60.0"
      ]
     },
     "execution_count": 3,
     "metadata": {},
     "output_type": "execute_result"
    }
   ],
   "source": [
    "benimListem[1] / 5 * 6"
   ]
  },
  {
   "cell_type": "code",
   "execution_count": 4,
   "id": "254d1ba8",
   "metadata": {},
   "outputs": [],
   "source": [
    "# Yukarıdaki durumu döngü içerisinde yazabiliriz. "
   ]
  },
  {
   "cell_type": "markdown",
   "id": "09ef78ab",
   "metadata": {},
   "source": [
    "### for döngüsü"
   ]
  },
  {
   "cell_type": "code",
   "execution_count": 5,
   "id": "7f18a222",
   "metadata": {},
   "outputs": [
    {
     "name": "stdout",
     "output_type": "stream",
     "text": [
      "Döngü başladı\n",
      "48.0\n",
      "60.0\n",
      "72.0\n",
      "84.0\n",
      "96.0\n",
      "108.0\n",
      "Döngü bitti\n",
      "Bunlar sonradan başlıyor\n"
     ]
    }
   ],
   "source": [
    "print(\"Döngü başladı\")\n",
    "for numara in benimListem:                # numara, değişken adıdır. Liste içerisindeki her bir eleman tek tek bu değişkene atanır.\n",
    "    print(numara / 5 *6)\n",
    "print(\"Döngü bitti\")\n",
    "print(\"Bunlar sonradan başlıyor\")"
   ]
  },
  {
   "cell_type": "code",
   "execution_count": null,
   "id": "6109d567",
   "metadata": {},
   "outputs": [],
   "source": []
  },
  {
   "cell_type": "code",
   "execution_count": 6,
   "id": "5a2973a1",
   "metadata": {},
   "outputs": [
    {
     "name": "stdout",
     "output_type": "stream",
     "text": [
      "8.0\n",
      "10.0\n",
      "12.0\n",
      "14.0\n",
      "16.0\n",
      "18.0\n"
     ]
    }
   ],
   "source": [
    "for eleman in benimListem:\n",
    "    yeniNumara = eleman/5\n",
    "    print(yeniNumara)"
   ]
  },
  {
   "cell_type": "code",
   "execution_count": 7,
   "id": "c529a5b4",
   "metadata": {},
   "outputs": [],
   "source": [
    "# Aşağıdaki listenin elemanlarının tek mi  çift mi olduğunu bulalım"
   ]
  },
  {
   "cell_type": "code",
   "execution_count": 8,
   "id": "e79fffd9",
   "metadata": {},
   "outputs": [],
   "source": [
    "yeniListe = [10,2032,1325,152,25,35,55,46,78,952,1354]"
   ]
  },
  {
   "cell_type": "code",
   "execution_count": 9,
   "id": "04d13792",
   "metadata": {},
   "outputs": [
    {
     "name": "stdout",
     "output_type": "stream",
     "text": [
      "10 : Çift sayı\n",
      "2032 : Çift sayı\n",
      "1325 : Tek sayı\n",
      "152 : Çift sayı\n",
      "25 : Tek sayı\n",
      "35 : Tek sayı\n",
      "55 : Tek sayı\n",
      "46 : Çift sayı\n",
      "78 : Çift sayı\n",
      "952 : Çift sayı\n",
      "1354 : Çift sayı\n"
     ]
    }
   ],
   "source": [
    "for eleman in yeniListe:\n",
    "    if eleman % 2 == 0:\n",
    "        print(eleman ,\": Çift sayı\")\n",
    "    else:\n",
    "        print(eleman ,\": Tek sayı\")"
   ]
  },
  {
   "cell_type": "code",
   "execution_count": 10,
   "id": "f832fae2",
   "metadata": {},
   "outputs": [],
   "source": [
    "# Çift sayıları yazdıran tek sayıları yazdırmayan döngü"
   ]
  },
  {
   "cell_type": "code",
   "execution_count": 11,
   "id": "38e36889",
   "metadata": {},
   "outputs": [
    {
     "name": "stdout",
     "output_type": "stream",
     "text": [
      "10\n",
      "2032\n",
      "152\n",
      "46\n",
      "78\n",
      "952\n",
      "1354\n"
     ]
    }
   ],
   "source": [
    "for eleman in yeniListe:\n",
    "    if eleman % 2 == 0:\n",
    "        print(eleman)"
   ]
  },
  {
   "cell_type": "code",
   "execution_count": 12,
   "id": "f3364769",
   "metadata": {},
   "outputs": [],
   "source": [
    "# Tek tek harfleri bulalım"
   ]
  },
  {
   "cell_type": "code",
   "execution_count": 13,
   "id": "2d235f1f",
   "metadata": {},
   "outputs": [
    {
     "name": "stdout",
     "output_type": "stream",
     "text": [
      "Ö\n",
      "z\n",
      "g\n",
      "e\n",
      " \n",
      "S\n",
      "a\n",
      "r\n",
      "ı\n",
      "o\n",
      "ğ\n",
      "l\n",
      "u\n"
     ]
    }
   ],
   "source": [
    "benimAdim = \"Özge Sarıoğlu\"\n",
    "for harf in benimAdim:\n",
    "    print(harf)"
   ]
  },
  {
   "cell_type": "code",
   "execution_count": null,
   "id": "56e9499a",
   "metadata": {},
   "outputs": [],
   "source": []
  },
  {
   "cell_type": "code",
   "execution_count": 14,
   "id": "4ad91398",
   "metadata": {},
   "outputs": [
    {
     "name": "stdout",
     "output_type": "stream",
     "text": [
      "100\n",
      "200\n",
      "300\n",
      "400\n",
      "500\n",
      "600\n"
     ]
    }
   ],
   "source": [
    "benimTuple = (10,20,30,40,50,60)\n",
    "for eleman in benimTuple:\n",
    "    print(eleman * 10)"
   ]
  },
  {
   "cell_type": "code",
   "execution_count": null,
   "id": "52997a3c",
   "metadata": {},
   "outputs": [],
   "source": []
  },
  {
   "cell_type": "code",
   "execution_count": 15,
   "id": "801acfd2",
   "metadata": {},
   "outputs": [],
   "source": [
    "uzunListe = [10,20,30,40,50,60,70,80,90,100,110]"
   ]
  },
  {
   "cell_type": "code",
   "execution_count": 16,
   "id": "d88e35c3",
   "metadata": {},
   "outputs": [
    {
     "name": "stdout",
     "output_type": "stream",
     "text": [
      "2.0\n",
      "4.0\n",
      "6.0\n",
      "8.0\n",
      "10.0\n",
      "12.0\n",
      "14.0\n",
      "16.0\n",
      "18.0\n",
      "20.0\n",
      "22.0\n"
     ]
    }
   ],
   "source": [
    "for num in uzunListe:\n",
    "    print(num/5)"
   ]
  },
  {
   "cell_type": "code",
   "execution_count": null,
   "id": "4235c71d",
   "metadata": {},
   "outputs": [],
   "source": []
  },
  {
   "cell_type": "code",
   "execution_count": 17,
   "id": "2dec5c3a",
   "metadata": {},
   "outputs": [
    {
     "name": "stdout",
     "output_type": "stream",
     "text": [
      "10\n",
      "20\n",
      "30\n",
      "40\n"
     ]
    }
   ],
   "source": [
    "for num in uzunListe:\n",
    "    if num == 50:\n",
    "        break\n",
    "    print(num)"
   ]
  },
  {
   "cell_type": "code",
   "execution_count": null,
   "id": "aa57e335",
   "metadata": {},
   "outputs": [],
   "source": []
  },
  {
   "cell_type": "code",
   "execution_count": 18,
   "id": "ef78f254",
   "metadata": {},
   "outputs": [
    {
     "name": "stdout",
     "output_type": "stream",
     "text": [
      "10\n",
      "20\n",
      "30\n",
      "40\n",
      "60\n",
      "70\n",
      "80\n",
      "90\n",
      "100\n",
      "110\n"
     ]
    }
   ],
   "source": [
    "for num in uzunListe:\n",
    "    if num == 50:\n",
    "        continue              # Koşulu atlayıp devam eder\n",
    "    print(num)"
   ]
  },
  {
   "cell_type": "code",
   "execution_count": null,
   "id": "98595b09",
   "metadata": {},
   "outputs": [],
   "source": []
  },
  {
   "cell_type": "code",
   "execution_count": 19,
   "id": "e7b6f34f",
   "metadata": {},
   "outputs": [],
   "source": [
    "for num in uzunListe:\n",
    "        pass             # O an için karar veremediğimiz durumlarda kullanılır"
   ]
  },
  {
   "cell_type": "code",
   "execution_count": null,
   "id": "231dbe00",
   "metadata": {},
   "outputs": [],
   "source": []
  },
  {
   "cell_type": "markdown",
   "id": "434767ba",
   "metadata": {},
   "source": [
    "## While Döngüsü"
   ]
  },
  {
   "cell_type": "code",
   "execution_count": 21,
   "id": "75ebff53",
   "metadata": {},
   "outputs": [
    {
     "name": "stdout",
     "output_type": "stream",
     "text": [
      "0\n",
      "1\n",
      "2\n",
      "3\n",
      "4\n",
      "5\n",
      "6\n",
      "7\n",
      "8\n",
      "9\n"
     ]
    }
   ],
   "source": [
    "a = 0\n",
    "while a<10:\n",
    "    print(a)          # Eğer burada bırakırsak sonsuz döngüye girer\n",
    "    a = a + 1"
   ]
  },
  {
   "cell_type": "code",
   "execution_count": null,
   "id": "580bc91c",
   "metadata": {},
   "outputs": [],
   "source": []
  }
 ],
 "metadata": {
  "kernelspec": {
   "display_name": "Python 3 (ipykernel)",
   "language": "python",
   "name": "python3"
  },
  "language_info": {
   "codemirror_mode": {
    "name": "ipython",
    "version": 3
   },
   "file_extension": ".py",
   "mimetype": "text/x-python",
   "name": "python",
   "nbconvert_exporter": "python",
   "pygments_lexer": "ipython3",
   "version": "3.9.7"
  }
 },
 "nbformat": 4,
 "nbformat_minor": 5
}
