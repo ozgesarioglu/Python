{
 "cells": [
  {
   "cell_type": "code",
   "execution_count": 1,
   "id": "769b4ede",
   "metadata": {},
   "outputs": [],
   "source": [
    "def ikiİleCarp(numara):\n",
    "    return numara*2"
   ]
  },
  {
   "cell_type": "code",
   "execution_count": 3,
   "id": "ed660226",
   "metadata": {},
   "outputs": [
    {
     "data": {
      "text/plain": [
       "198"
      ]
     },
     "execution_count": 3,
     "metadata": {},
     "output_type": "execute_result"
    }
   ],
   "source": [
    "ikiİleCarp(99)"
   ]
  },
  {
   "cell_type": "code",
   "execution_count": 4,
   "id": "ce9024f0",
   "metadata": {},
   "outputs": [],
   "source": [
    "numaraListe = [10,20,30,40,50,60,70,80,90,100]"
   ]
  },
  {
   "cell_type": "code",
   "execution_count": 6,
   "id": "18d7d946",
   "metadata": {},
   "outputs": [],
   "source": [
    "yeniListe = []\n",
    "for eleman in numaraListe:\n",
    "    yeniListe.append(ikiİleCarp(eleman))"
   ]
  },
  {
   "cell_type": "code",
   "execution_count": 7,
   "id": "da08630f",
   "metadata": {},
   "outputs": [
    {
     "data": {
      "text/plain": [
       "[20, 40, 60, 80, 100, 120, 140, 160, 180, 200]"
      ]
     },
     "execution_count": 7,
     "metadata": {},
     "output_type": "execute_result"
    }
   ],
   "source": [
    "yeniListe"
   ]
  },
  {
   "cell_type": "code",
   "execution_count": 8,
   "id": "2e4385bf",
   "metadata": {},
   "outputs": [],
   "source": [
    "# Yukarıdaki işlemi kolaylaştımak için map fonksiyonunu kullanabiliriz."
   ]
  },
  {
   "cell_type": "markdown",
   "id": "e2c2225c",
   "metadata": {},
   "source": [
    "### map\n",
    "Genelde bir veriyi/veri dizisini  başka bir veriye/veri dizisine çevirmek için kullanılır. "
   ]
  },
  {
   "cell_type": "code",
   "execution_count": 9,
   "id": "ae558fd0",
   "metadata": {},
   "outputs": [],
   "source": [
    "# Not:Shift+Tab yapıldığında metodun nasıl kullanılacağı gösterilir."
   ]
  },
  {
   "cell_type": "code",
   "execution_count": 10,
   "id": "9e55bda1",
   "metadata": {},
   "outputs": [
    {
     "name": "stdout",
     "output_type": "stream",
     "text": [
      "Help on class map in module builtins:\n",
      "\n",
      "class map(object)\n",
      " |  map(func, *iterables) --> map object\n",
      " |  \n",
      " |  Make an iterator that computes the function using arguments from\n",
      " |  each of the iterables.  Stops when the shortest iterable is exhausted.\n",
      " |  \n",
      " |  Methods defined here:\n",
      " |  \n",
      " |  __getattribute__(self, name, /)\n",
      " |      Return getattr(self, name).\n",
      " |  \n",
      " |  __iter__(self, /)\n",
      " |      Implement iter(self).\n",
      " |  \n",
      " |  __next__(self, /)\n",
      " |      Implement next(self).\n",
      " |  \n",
      " |  __reduce__(...)\n",
      " |      Return state information for pickling.\n",
      " |  \n",
      " |  ----------------------------------------------------------------------\n",
      " |  Static methods defined here:\n",
      " |  \n",
      " |  __new__(*args, **kwargs) from builtins.type\n",
      " |      Create and return a new object.  See help(type) for accurate signature.\n",
      "\n"
     ]
    }
   ],
   "source": [
    "help(map)"
   ]
  },
  {
   "cell_type": "code",
   "execution_count": 15,
   "id": "431b1d07",
   "metadata": {},
   "outputs": [
    {
     "data": {
      "text/plain": [
       "[20, 40, 60, 80, 100, 120, 140, 160, 180, 200]"
      ]
     },
     "execution_count": 15,
     "metadata": {},
     "output_type": "execute_result"
    }
   ],
   "source": [
    "yeniiList = list(map(ikiİleCarp, numaraListe))\n",
    "yeniiLİst"
   ]
  },
  {
   "cell_type": "code",
   "execution_count": null,
   "id": "5efc9bc5",
   "metadata": {},
   "outputs": [],
   "source": []
  },
  {
   "cell_type": "code",
   "execution_count": 20,
   "id": "972b3533",
   "metadata": {},
   "outputs": [],
   "source": [
    "def stringKontrolü(s):\n",
    "    return \"özge\" in s"
   ]
  },
  {
   "cell_type": "code",
   "execution_count": 21,
   "id": "41be4ccc",
   "metadata": {},
   "outputs": [
    {
     "data": {
      "text/plain": [
       "True"
      ]
     },
     "execution_count": 21,
     "metadata": {},
     "output_type": "execute_result"
    }
   ],
   "source": [
    "stringKontrolü(\"özge sarıoğlu\")"
   ]
  },
  {
   "cell_type": "code",
   "execution_count": 22,
   "id": "8b831aeb",
   "metadata": {},
   "outputs": [],
   "source": [
    "stringListe = [\"özge sarıoğlu\", \"özge\", \"ayşe\", \"özge\"]"
   ]
  },
  {
   "cell_type": "code",
   "execution_count": 23,
   "id": "85e79ac4",
   "metadata": {},
   "outputs": [
    {
     "data": {
      "text/plain": [
       "[True, True, False, True]"
      ]
     },
     "execution_count": 23,
     "metadata": {},
     "output_type": "execute_result"
    }
   ],
   "source": [
    "list(map(stringKontrolü, stringListe))"
   ]
  },
  {
   "cell_type": "code",
   "execution_count": null,
   "id": "080d6f9a",
   "metadata": {},
   "outputs": [],
   "source": []
  },
  {
   "cell_type": "markdown",
   "id": "2589f634",
   "metadata": {},
   "source": [
    "## filter\n",
    "Filtreme işlemi yapar"
   ]
  },
  {
   "cell_type": "code",
   "execution_count": 24,
   "id": "65f61202",
   "metadata": {},
   "outputs": [
    {
     "data": {
      "text/plain": [
       "['özge sarıoğlu', 'özge', 'özge']"
      ]
     },
     "execution_count": 24,
     "metadata": {},
     "output_type": "execute_result"
    }
   ],
   "source": [
    "list(filter(stringKontrolü, stringListe))"
   ]
  },
  {
   "cell_type": "code",
   "execution_count": null,
   "id": "ab3a060b",
   "metadata": {},
   "outputs": [],
   "source": []
  },
  {
   "cell_type": "markdown",
   "id": "8b672357",
   "metadata": {},
   "source": [
    "## lambda "
   ]
  },
  {
   "cell_type": "code",
   "execution_count": 27,
   "id": "d8a73f8a",
   "metadata": {},
   "outputs": [],
   "source": [
    "def ucleCarp(num):\n",
    "    return num*3"
   ]
  },
  {
   "cell_type": "code",
   "execution_count": 28,
   "id": "b1a59741",
   "metadata": {},
   "outputs": [
    {
     "data": {
      "text/plain": [
       "60"
      ]
     },
     "execution_count": 28,
     "metadata": {},
     "output_type": "execute_result"
    }
   ],
   "source": [
    "ucleCarp(20)"
   ]
  },
  {
   "cell_type": "code",
   "execution_count": 29,
   "id": "cdd3fdf1",
   "metadata": {},
   "outputs": [],
   "source": [
    "carpma = lambda num : num * 3           # input:return şeklinde"
   ]
  },
  {
   "cell_type": "code",
   "execution_count": 30,
   "id": "8f164ff7",
   "metadata": {},
   "outputs": [
    {
     "data": {
      "text/plain": [
       "60"
      ]
     },
     "execution_count": 30,
     "metadata": {},
     "output_type": "execute_result"
    }
   ],
   "source": [
    "carpma(20)"
   ]
  },
  {
   "cell_type": "code",
   "execution_count": 34,
   "id": "afa95088",
   "metadata": {},
   "outputs": [],
   "source": [
    "stringListe = [\"özge sarıoğlu\", \"özge\", \"ayşe\", \"özge\"]  "
   ]
  },
  {
   "cell_type": "code",
   "execution_count": 35,
   "id": "dfdfe801",
   "metadata": {},
   "outputs": [],
   "source": [
    "# stringListesinin içerisindeki elemanların sadece \"a\" harfi içerenleri alalım."
   ]
  },
  {
   "cell_type": "code",
   "execution_count": 36,
   "id": "127742fb",
   "metadata": {},
   "outputs": [
    {
     "data": {
      "text/plain": [
       "['özge sarıoğlu', 'ayşe']"
      ]
     },
     "execution_count": 36,
     "metadata": {},
     "output_type": "execute_result"
    }
   ],
   "source": [
    "list(filter(lambda string : \"a\" in string, stringListe))"
   ]
  },
  {
   "cell_type": "code",
   "execution_count": 37,
   "id": "9f034d61",
   "metadata": {},
   "outputs": [
    {
     "data": {
      "text/plain": [
       "[True, False, True, False]"
      ]
     },
     "execution_count": 37,
     "metadata": {},
     "output_type": "execute_result"
    }
   ],
   "source": [
    "list(map(lambda string : \"a\" in string, stringListe))"
   ]
  },
  {
   "cell_type": "code",
   "execution_count": null,
   "id": "7929ad9d",
   "metadata": {},
   "outputs": [],
   "source": []
  }
 ],
 "metadata": {
  "kernelspec": {
   "display_name": "Python 3 (ipykernel)",
   "language": "python",
   "name": "python3"
  },
  "language_info": {
   "codemirror_mode": {
    "name": "ipython",
    "version": 3
   },
   "file_extension": ".py",
   "mimetype": "text/x-python",
   "name": "python",
   "nbconvert_exporter": "python",
   "pygments_lexer": "ipython3",
   "version": "3.9.7"
  }
 },
 "nbformat": 4,
 "nbformat_minor": 5
}
