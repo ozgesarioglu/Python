{
 "cells": [
  {
   "cell_type": "markdown",
   "id": "d3452b57",
   "metadata": {},
   "source": [
    "# Koşullar"
   ]
  },
  {
   "cell_type": "code",
   "execution_count": 1,
   "id": "5ad6eea1",
   "metadata": {},
   "outputs": [],
   "source": [
    "x = 10"
   ]
  },
  {
   "cell_type": "code",
   "execution_count": 4,
   "id": "8c9f5ed0",
   "metadata": {},
   "outputs": [
    {
     "name": "stdout",
     "output_type": "stream",
     "text": [
      "x'in değeri:  10\n"
     ]
    }
   ],
   "source": [
    "print(\"x'in değeri: \", x)"
   ]
  },
  {
   "cell_type": "code",
   "execution_count": 5,
   "id": "aac59fa0",
   "metadata": {},
   "outputs": [],
   "source": [
    "# ya da"
   ]
  },
  {
   "cell_type": "code",
   "execution_count": 6,
   "id": "10a18aa2",
   "metadata": {},
   "outputs": [
    {
     "name": "stdout",
     "output_type": "stream",
     "text": [
      "x'in değeri: 10\n"
     ]
    }
   ],
   "source": [
    "print(f\"x'in değeri: {x}\")    # parantez içerisine istediğimiz kodu yazabiliriz.{...}"
   ]
  },
  {
   "cell_type": "code",
   "execution_count": 7,
   "id": "c5bda70f",
   "metadata": {},
   "outputs": [],
   "source": [
    "x = 4\n",
    "y = 3"
   ]
  },
  {
   "cell_type": "code",
   "execution_count": 10,
   "id": "b19dd7da",
   "metadata": {},
   "outputs": [
    {
     "name": "stdout",
     "output_type": "stream",
     "text": [
      "x, y'den büyüktür.\n",
      "Çünkü x'in değeri: 4 ve y'nin değeri: 3\n"
     ]
    }
   ],
   "source": [
    "if x > y:\n",
    "    print(\"x, y'den büyüktür.\")\n",
    "    print(f\"Çünkü x'in değeri: {x} ve y'nin değeri: {y}\")"
   ]
  },
  {
   "cell_type": "code",
   "execution_count": 16,
   "id": "6a946b08",
   "metadata": {},
   "outputs": [],
   "source": [
    "a = 5\n",
    "b = 1"
   ]
  },
  {
   "cell_type": "code",
   "execution_count": 17,
   "id": "e3c765c4",
   "metadata": {},
   "outputs": [
    {
     "name": "stdout",
     "output_type": "stream",
     "text": [
      "a, b'den büyüktür\n",
      "Burası if kontrolünün dışında\n"
     ]
    }
   ],
   "source": [
    "if a > b:\n",
    "    print(\"a, b'den büyüktür\")\n",
    "print(\"Burası if kontrolünün dışında\")"
   ]
  },
  {
   "cell_type": "markdown",
   "id": "1ac34e95",
   "metadata": {},
   "source": [
    "indentation(girinti) hatası boşluklarla ilgilidir."
   ]
  },
  {
   "cell_type": "code",
   "execution_count": 19,
   "id": "2c274695",
   "metadata": {},
   "outputs": [],
   "source": [
    "if b > a:\n",
    "    print(\"b, a'dan büyüktür\")\n",
    "    if x > y:\n",
    "        print(\"x, y'den büyüktür\")"
   ]
  },
  {
   "cell_type": "code",
   "execution_count": null,
   "id": "3076db93",
   "metadata": {},
   "outputs": [],
   "source": []
  },
  {
   "cell_type": "code",
   "execution_count": 20,
   "id": "db402e96",
   "metadata": {},
   "outputs": [],
   "source": [
    "benimSayim = 10\n",
    "digerSayi = 5"
   ]
  },
  {
   "cell_type": "code",
   "execution_count": 23,
   "id": "b2276000",
   "metadata": {},
   "outputs": [
    {
     "name": "stdout",
     "output_type": "stream",
     "text": [
      "Benim sayım daha büyük\n"
     ]
    }
   ],
   "source": [
    "if benimSayim > digerSayi:\n",
    "    print(\"Benim sayım daha büyük\")\n",
    "elif digerSayi > benimSayim:\n",
    "    print(\"Benim sayım daha küçük\")\n",
    "else:\n",
    "    print(\"Hiç bir koşul sağlanmadı.\")"
   ]
  },
  {
   "cell_type": "code",
   "execution_count": null,
   "id": "2eb304d1",
   "metadata": {},
   "outputs": [],
   "source": []
  },
  {
   "cell_type": "code",
   "execution_count": 26,
   "id": "c389e1eb",
   "metadata": {},
   "outputs": [
    {
     "name": "stdout",
     "output_type": "stream",
     "text": [
      "Süper kahramanızı giriniz: Superman\n"
     ]
    }
   ],
   "source": [
    "superKahraman = input(\"Süper kahramanızı giriniz: \")"
   ]
  },
  {
   "cell_type": "code",
   "execution_count": 27,
   "id": "c2bfeef5",
   "metadata": {},
   "outputs": [
    {
     "name": "stdout",
     "output_type": "stream",
     "text": [
      "İyi bir kahraman\n"
     ]
    }
   ],
   "source": [
    "if superKahraman == \"Batman\":\n",
    "    print(\"Kahramanınız Batman\")\n",
    "elif superKahraman == \"Superman\":\n",
    "    print(\"İyi bir kahraman\")\n",
    "elif superKahraman == \"Aquaman\":\n",
    "    print(\"Çok güzel bir kahraman\")\n",
    "else:\n",
    "    print(\"Kahramanınızı tanımıyorum\")"
   ]
  },
  {
   "cell_type": "code",
   "execution_count": null,
   "id": "10ce0002",
   "metadata": {},
   "outputs": [],
   "source": []
  },
  {
   "cell_type": "code",
   "execution_count": 28,
   "id": "8aac43ce",
   "metadata": {},
   "outputs": [],
   "source": [
    "a=5\n",
    "b=10\n",
    "c=15"
   ]
  },
  {
   "cell_type": "code",
   "execution_count": 29,
   "id": "7c9e4f22",
   "metadata": {},
   "outputs": [
    {
     "name": "stdout",
     "output_type": "stream",
     "text": [
      "a, b'den küçük ve b de c'den küçük\n"
     ]
    }
   ],
   "source": [
    "if a>b and b>c:\n",
    "    print(\"a, b'den büyük ve b de c'den büyük\")\n",
    "elif a<b and b<c:\n",
    "    print(\"a, b'den küçük ve b de c'den küçük\")\n",
    "else:\n",
    "    print(\"Bu koşullar tutmadı\")"
   ]
  },
  {
   "cell_type": "code",
   "execution_count": null,
   "id": "be02bdff",
   "metadata": {},
   "outputs": [],
   "source": []
  },
  {
   "cell_type": "code",
   "execution_count": 30,
   "id": "80a712ac",
   "metadata": {},
   "outputs": [],
   "source": [
    "karakterCanli = True"
   ]
  },
  {
   "cell_type": "code",
   "execution_count": 31,
   "id": "e95068e9",
   "metadata": {},
   "outputs": [
    {
     "name": "stdout",
     "output_type": "stream",
     "text": [
      "karakter yaşıyor\n"
     ]
    }
   ],
   "source": [
    "if karakterCanli == True:\n",
    "    print(\"karakter yaşıyor\")\n",
    "else:\n",
    "    print(\"karakter yaşamıyor\")"
   ]
  },
  {
   "cell_type": "code",
   "execution_count": 32,
   "id": "9c0bbc8f",
   "metadata": {},
   "outputs": [],
   "source": [
    "# ya da "
   ]
  },
  {
   "cell_type": "code",
   "execution_count": 33,
   "id": "6c90b369",
   "metadata": {},
   "outputs": [
    {
     "name": "stdout",
     "output_type": "stream",
     "text": [
      "karakter yaşıyor\n"
     ]
    }
   ],
   "source": [
    "if karakterCanli:\n",
    "    print(\"karakter yaşıyor\")\n",
    "else:\n",
    "    print(\"karakter yaşamıyor\")"
   ]
  },
  {
   "cell_type": "code",
   "execution_count": null,
   "id": "7159528e",
   "metadata": {},
   "outputs": [],
   "source": []
  },
  {
   "cell_type": "code",
   "execution_count": 34,
   "id": "0649b763",
   "metadata": {},
   "outputs": [],
   "source": [
    "benimString = \"Özge Sarıoğlu\""
   ]
  },
  {
   "cell_type": "code",
   "execution_count": 35,
   "id": "6f990755",
   "metadata": {},
   "outputs": [
    {
     "name": "stdout",
     "output_type": "stream",
     "text": [
      "Evet sensin\n"
     ]
    }
   ],
   "source": [
    "if benimString:\n",
    "    print(\"Evet sensin\")\n",
    "else:\n",
    "    print(\"hayır değilsin\")"
   ]
  },
  {
   "cell_type": "code",
   "execution_count": 36,
   "id": "5120db6d",
   "metadata": {},
   "outputs": [
    {
     "name": "stdout",
     "output_type": "stream",
     "text": [
      "yoktur\n"
     ]
    }
   ],
   "source": [
    "if \"özge\" in benimString:\n",
    "    print(\"özge diye bir string var\")\n",
    "else:\n",
    "    print(\"yoktur\")"
   ]
  },
  {
   "cell_type": "code",
   "execution_count": null,
   "id": "77b1c563",
   "metadata": {},
   "outputs": [],
   "source": []
  },
  {
   "cell_type": "code",
   "execution_count": 37,
   "id": "d2065afb",
   "metadata": {},
   "outputs": [],
   "source": [
    "numaraListesi = [10,20,30,40,50,60]"
   ]
  },
  {
   "cell_type": "code",
   "execution_count": 39,
   "id": "0e7f5550",
   "metadata": {},
   "outputs": [
    {
     "name": "stdout",
     "output_type": "stream",
     "text": [
      "Evet var\n"
     ]
    }
   ],
   "source": [
    "if 50 in numaraListesi:\n",
    "    print(\"Evet var\")\n",
    "else:\n",
    "    print(\"Hayır yok\")"
   ]
  },
  {
   "cell_type": "code",
   "execution_count": null,
   "id": "d4524d93",
   "metadata": {},
   "outputs": [],
   "source": []
  },
  {
   "cell_type": "code",
   "execution_count": 41,
   "id": "4d86653e",
   "metadata": {},
   "outputs": [],
   "source": [
    "kaloriSozluk = {\"muz\": 100, \"elma\": 200, \"karpuz\": 300}"
   ]
  },
  {
   "cell_type": "code",
   "execution_count": 42,
   "id": "b33cca7e",
   "metadata": {},
   "outputs": [
    {
     "name": "stdout",
     "output_type": "stream",
     "text": [
      "Evet\n"
     ]
    }
   ],
   "source": [
    "if \"muz\" in kaloriSozluk.keys():\n",
    "    print(\"Evet\")"
   ]
  },
  {
   "cell_type": "code",
   "execution_count": 43,
   "id": "c63c671f",
   "metadata": {},
   "outputs": [
    {
     "name": "stdout",
     "output_type": "stream",
     "text": [
      "Var\n"
     ]
    }
   ],
   "source": [
    "if 300 in kaloriSozluk.values():\n",
    "    print(\"Var\")"
   ]
  },
  {
   "cell_type": "code",
   "execution_count": null,
   "id": "7d95481c",
   "metadata": {},
   "outputs": [],
   "source": []
  },
  {
   "cell_type": "code",
   "execution_count": null,
   "id": "51b4b7d7",
   "metadata": {},
   "outputs": [],
   "source": []
  }
 ],
 "metadata": {
  "kernelspec": {
   "display_name": "Python 3 (ipykernel)",
   "language": "python",
   "name": "python3"
  },
  "language_info": {
   "codemirror_mode": {
    "name": "ipython",
    "version": 3
   },
   "file_extension": ".py",
   "mimetype": "text/x-python",
   "name": "python",
   "nbconvert_exporter": "python",
   "pygments_lexer": "ipython3",
   "version": "3.9.7"
  }
 },
 "nbformat": 4,
 "nbformat_minor": 5
}
