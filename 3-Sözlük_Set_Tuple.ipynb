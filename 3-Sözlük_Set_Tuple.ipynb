{
 "cells": [
  {
   "cell_type": "markdown",
   "id": "5369ce95",
   "metadata": {},
   "source": [
    "# Sözlük(dictionary-{...})"
   ]
  },
  {
   "cell_type": "code",
   "execution_count": 1,
   "id": "060ae93e",
   "metadata": {},
   "outputs": [],
   "source": [
    "benimListem = [1,2,3,4]"
   ]
  },
  {
   "cell_type": "code",
   "execution_count": 2,
   "id": "65b182b5",
   "metadata": {},
   "outputs": [
    {
     "data": {
      "text/plain": [
       "1"
      ]
     },
     "execution_count": 2,
     "metadata": {},
     "output_type": "execute_result"
    }
   ],
   "source": [
    "benimListem[0]"
   ]
  },
  {
   "cell_type": "markdown",
   "id": "630472ef",
   "metadata": {},
   "source": [
    "Dictionary, Sözlük => key-value ({anahtar kelime: değer eşleşmesi})"
   ]
  },
  {
   "cell_type": "code",
   "execution_count": 4,
   "id": "292eaad5",
   "metadata": {},
   "outputs": [],
   "source": [
    "benimYemeklerim = [\"elma\", \"armut\", \"karpuz\"]"
   ]
  },
  {
   "cell_type": "code",
   "execution_count": 5,
   "id": "fc1184fc",
   "metadata": {},
   "outputs": [],
   "source": [
    "benimKalorim = [60,80,50]"
   ]
  },
  {
   "cell_type": "code",
   "execution_count": 6,
   "id": "7be6632e",
   "metadata": {},
   "outputs": [
    {
     "data": {
      "text/plain": [
       "'armut'"
      ]
     },
     "execution_count": 6,
     "metadata": {},
     "output_type": "execute_result"
    }
   ],
   "source": [
    "benimYemeklerim[1]"
   ]
  },
  {
   "cell_type": "code",
   "execution_count": 7,
   "id": "d884c3dc",
   "metadata": {},
   "outputs": [
    {
     "data": {
      "text/plain": [
       "80"
      ]
     },
     "execution_count": 7,
     "metadata": {},
     "output_type": "execute_result"
    }
   ],
   "source": [
    "benimKalorim[1]"
   ]
  },
  {
   "cell_type": "code",
   "execution_count": 8,
   "id": "8fb38adb",
   "metadata": {},
   "outputs": [],
   "source": [
    "benimSozluk = {\"anahtarkelime\":\"değer\"}"
   ]
  },
  {
   "cell_type": "code",
   "execution_count": 9,
   "id": "4fb778ec",
   "metadata": {},
   "outputs": [
    {
     "data": {
      "text/plain": [
       "'değer'"
      ]
     },
     "execution_count": 9,
     "metadata": {},
     "output_type": "execute_result"
    }
   ],
   "source": [
    "benimSozluk[\"anahtarkelime\"]"
   ]
  },
  {
   "cell_type": "code",
   "execution_count": 11,
   "id": "66d65bd8",
   "metadata": {},
   "outputs": [],
   "source": [
    "benimKaloriSozlugum = {\"elma\":60,\"armut\":80,\"karpuz\":50}"
   ]
  },
  {
   "cell_type": "code",
   "execution_count": 12,
   "id": "f28de6b2",
   "metadata": {},
   "outputs": [
    {
     "data": {
      "text/plain": [
       "60"
      ]
     },
     "execution_count": 12,
     "metadata": {},
     "output_type": "execute_result"
    }
   ],
   "source": [
    "benimKaloriSozlugum[\"elma\"]"
   ]
  },
  {
   "cell_type": "code",
   "execution_count": 14,
   "id": "fe8d675f",
   "metadata": {},
   "outputs": [
    {
     "ename": "KeyError",
     "evalue": "80",
     "output_type": "error",
     "traceback": [
      "\u001b[1;31m---------------------------------------------------------------------------\u001b[0m",
      "\u001b[1;31mKeyError\u001b[0m                                  Traceback (most recent call last)",
      "\u001b[1;32m~\\AppData\\Local\\Temp/ipykernel_47740/3037991933.py\u001b[0m in \u001b[0;36m<module>\u001b[1;34m\u001b[0m\n\u001b[1;32m----> 1\u001b[1;33m \u001b[0mbenimKaloriSozlugum\u001b[0m\u001b[1;33m[\u001b[0m\u001b[1;36m80\u001b[0m\u001b[1;33m]\u001b[0m    \u001b[1;31m# Sadece anahtar istenilir\u001b[0m\u001b[1;33m\u001b[0m\u001b[1;33m\u001b[0m\u001b[0m\n\u001b[0m",
      "\u001b[1;31mKeyError\u001b[0m: 80"
     ]
    }
   ],
   "source": [
    "benimKaloriSozlugum[80]    # Sadece anahtar istenilir"
   ]
  },
  {
   "cell_type": "code",
   "execution_count": 15,
   "id": "cc8a4e38",
   "metadata": {},
   "outputs": [
    {
     "data": {
      "text/plain": [
       "dict"
      ]
     },
     "execution_count": 15,
     "metadata": {},
     "output_type": "execute_result"
    }
   ],
   "source": [
    "type(benimKaloriSozlugum)"
   ]
  },
  {
   "cell_type": "code",
   "execution_count": 16,
   "id": "f6df7934",
   "metadata": {},
   "outputs": [
    {
     "data": {
      "text/plain": [
       "dict_values([60, 80, 50])"
      ]
     },
     "execution_count": 16,
     "metadata": {},
     "output_type": "execute_result"
    }
   ],
   "source": [
    "benimKaloriSozlugum.values()"
   ]
  },
  {
   "cell_type": "code",
   "execution_count": 17,
   "id": "2cde3a71",
   "metadata": {},
   "outputs": [
    {
     "data": {
      "text/plain": [
       "dict_items([('elma', 60), ('armut', 80), ('karpuz', 50)])"
      ]
     },
     "execution_count": 17,
     "metadata": {},
     "output_type": "execute_result"
    }
   ],
   "source": [
    "benimKaloriSozlugum.items()"
   ]
  },
  {
   "cell_type": "code",
   "execution_count": 18,
   "id": "948cc083",
   "metadata": {},
   "outputs": [],
   "source": [
    "benimKaloriSozlugum[\"uzum\"] = 400"
   ]
  },
  {
   "cell_type": "code",
   "execution_count": 19,
   "id": "c62a59e4",
   "metadata": {},
   "outputs": [
    {
     "data": {
      "text/plain": [
       "{'elma': 60, 'armut': 80, 'karpuz': 50, 'uzum': 400}"
      ]
     },
     "execution_count": 19,
     "metadata": {},
     "output_type": "execute_result"
    }
   ],
   "source": [
    "benimKaloriSozlugum"
   ]
  },
  {
   "cell_type": "code",
   "execution_count": 22,
   "id": "08d734f1",
   "metadata": {},
   "outputs": [
    {
     "data": {
      "text/plain": [
       "{'elma': 150, 'armut': 80, 'karpuz': 50, 'uzum': 400}"
      ]
     },
     "execution_count": 22,
     "metadata": {},
     "output_type": "execute_result"
    }
   ],
   "source": [
    "benimKaloriSozlugum[\"elma\"] = 150      # eleman değiştirilebilir.\n",
    "benimKaloriSozlugum"
   ]
  },
  {
   "cell_type": "code",
   "execution_count": 23,
   "id": "a928fa54",
   "metadata": {},
   "outputs": [],
   "source": [
    "ilgincSozluk={1:\"özge\",2:\"ayşe\"}"
   ]
  },
  {
   "cell_type": "code",
   "execution_count": 24,
   "id": "b953c610",
   "metadata": {},
   "outputs": [
    {
     "data": {
      "text/plain": [
       "'özge'"
      ]
     },
     "execution_count": 24,
     "metadata": {},
     "output_type": "execute_result"
    }
   ],
   "source": [
    "ilgincSozluk[1]"
   ]
  },
  {
   "cell_type": "code",
   "execution_count": 25,
   "id": "e0f15b00",
   "metadata": {},
   "outputs": [],
   "source": [
    "karisikSozluk = {\"anahtar\":100, 20:\"değer\"}"
   ]
  },
  {
   "cell_type": "code",
   "execution_count": 26,
   "id": "f6fea373",
   "metadata": {},
   "outputs": [
    {
     "data": {
      "text/plain": [
       "100"
      ]
     },
     "execution_count": 26,
     "metadata": {},
     "output_type": "execute_result"
    }
   ],
   "source": [
    "karisikSozluk[\"anahtar\"]"
   ]
  },
  {
   "cell_type": "code",
   "execution_count": 27,
   "id": "b812b2a2",
   "metadata": {},
   "outputs": [
    {
     "data": {
      "text/plain": [
       "'değer'"
      ]
     },
     "execution_count": 27,
     "metadata": {},
     "output_type": "execute_result"
    }
   ],
   "source": [
    "karisikSozluk[20]"
   ]
  },
  {
   "cell_type": "code",
   "execution_count": 33,
   "id": "2a03a31f",
   "metadata": {},
   "outputs": [],
   "source": [
    "listeliSozluk = {\"anahtar1\":100, \"anahtar2\":[1,2,3,4,5], \"anahtar3\":{\"anahtar25\":25400}}"
   ]
  },
  {
   "cell_type": "code",
   "execution_count": 35,
   "id": "0b8307a3",
   "metadata": {},
   "outputs": [
    {
     "data": {
      "text/plain": [
       "100"
      ]
     },
     "execution_count": 35,
     "metadata": {},
     "output_type": "execute_result"
    }
   ],
   "source": [
    "listeliSozluk[\"anahtar1\"]"
   ]
  },
  {
   "cell_type": "code",
   "execution_count": 36,
   "id": "dd59ec13",
   "metadata": {},
   "outputs": [
    {
     "data": {
      "text/plain": [
       "{'anahtar25': 25400}"
      ]
     },
     "execution_count": 36,
     "metadata": {},
     "output_type": "execute_result"
    }
   ],
   "source": [
    "listeliSozluk[\"anahtar3\"]"
   ]
  },
  {
   "cell_type": "code",
   "execution_count": 37,
   "id": "d392dcf2",
   "metadata": {},
   "outputs": [
    {
     "data": {
      "text/plain": [
       "25400"
      ]
     },
     "execution_count": 37,
     "metadata": {},
     "output_type": "execute_result"
    }
   ],
   "source": [
    "listeliSozluk[\"anahtar3\"][\"anahtar25\"]"
   ]
  },
  {
   "cell_type": "code",
   "execution_count": null,
   "id": "1e16a0e9",
   "metadata": {},
   "outputs": [],
   "source": []
  },
  {
   "cell_type": "markdown",
   "id": "a55b356d",
   "metadata": {},
   "source": [
    "# Set - {..}"
   ]
  },
  {
   "cell_type": "markdown",
   "id": "3bb864be",
   "metadata": {},
   "source": [
    "İçerisinde tekil eleman barındıran yapılardır."
   ]
  },
  {
   "cell_type": "code",
   "execution_count": 38,
   "id": "89748c60",
   "metadata": {},
   "outputs": [],
   "source": [
    "listeOrnegı = [1,2,3,4,1,2,3]"
   ]
  },
  {
   "cell_type": "code",
   "execution_count": 39,
   "id": "4e8e8574",
   "metadata": {},
   "outputs": [
    {
     "data": {
      "text/plain": [
       "list"
      ]
     },
     "execution_count": 39,
     "metadata": {},
     "output_type": "execute_result"
    }
   ],
   "source": [
    "type(listeOrnegı)"
   ]
  },
  {
   "cell_type": "code",
   "execution_count": 40,
   "id": "7058f8ff",
   "metadata": {},
   "outputs": [],
   "source": [
    "setHali= set(listeOrnegı)"
   ]
  },
  {
   "cell_type": "code",
   "execution_count": 41,
   "id": "69780aef",
   "metadata": {},
   "outputs": [
    {
     "data": {
      "text/plain": [
       "{1, 2, 3, 4}"
      ]
     },
     "execution_count": 41,
     "metadata": {},
     "output_type": "execute_result"
    }
   ],
   "source": [
    "setHali"
   ]
  },
  {
   "cell_type": "code",
   "execution_count": 44,
   "id": "dbfb6f32",
   "metadata": {},
   "outputs": [
    {
     "data": {
      "text/plain": [
       "{'a', 'b', 'c'}"
      ]
     },
     "execution_count": 44,
     "metadata": {},
     "output_type": "execute_result"
    }
   ],
   "source": [
    "benimSetim = {\"a\",\"b\",\"c\",\"a\"}\n",
    "benimSetim"
   ]
  },
  {
   "cell_type": "code",
   "execution_count": 46,
   "id": "b0d22238",
   "metadata": {},
   "outputs": [
    {
     "ename": "SyntaxError",
     "evalue": "invalid syntax (Temp/ipykernel_47740/1380449730.py, line 1)",
     "output_type": "error",
     "traceback": [
      "\u001b[1;36m  File \u001b[1;32m\"C:\\Users\\ozgee\\AppData\\Local\\Temp/ipykernel_47740/1380449730.py\"\u001b[1;36m, line \u001b[1;32m1\u001b[0m\n\u001b[1;33m    benimSetim.[0]    # setin tek amacı tekile indirgemektir\u001b[0m\n\u001b[1;37m               ^\u001b[0m\n\u001b[1;31mSyntaxError\u001b[0m\u001b[1;31m:\u001b[0m invalid syntax\n"
     ]
    }
   ],
   "source": [
    "benimSetim.[0]    "
   ]
  },
  {
   "cell_type": "code",
   "execution_count": 47,
   "id": "2370bff3",
   "metadata": {},
   "outputs": [],
   "source": [
    "ornekListe = [1,2,3,4,5,1,2,3,4]"
   ]
  },
  {
   "cell_type": "code",
   "execution_count": 49,
   "id": "ccad6bf0",
   "metadata": {},
   "outputs": [
    {
     "data": {
      "text/plain": [
       "{1, 2, 3, 4, 5}"
      ]
     },
     "execution_count": 49,
     "metadata": {},
     "output_type": "execute_result"
    }
   ],
   "source": [
    "tekilSet = set(ornekListe)\n",
    "tekilSet"
   ]
  },
  {
   "cell_type": "code",
   "execution_count": 51,
   "id": "5dce82bb",
   "metadata": {},
   "outputs": [
    {
     "data": {
      "text/plain": [
       "[1, 2, 3, 4, 5]"
      ]
     },
     "execution_count": 51,
     "metadata": {},
     "output_type": "execute_result"
    }
   ],
   "source": [
    "tekilSet = list(tekilSet)\n",
    "tekilSet"
   ]
  },
  {
   "cell_type": "code",
   "execution_count": null,
   "id": "ecf9c007",
   "metadata": {},
   "outputs": [],
   "source": []
  },
  {
   "cell_type": "code",
   "execution_count": 56,
   "id": "0ea1b395",
   "metadata": {},
   "outputs": [
    {
     "data": {
      "text/plain": [
       "list"
      ]
     },
     "execution_count": 56,
     "metadata": {},
     "output_type": "execute_result"
    }
   ],
   "source": [
    "bosListe = []\n",
    "type(bosListe)"
   ]
  },
  {
   "cell_type": "code",
   "execution_count": 57,
   "id": "d2910d0e",
   "metadata": {},
   "outputs": [],
   "source": [
    "bosListe.append(10)\n",
    "bosListe.append(20)"
   ]
  },
  {
   "cell_type": "code",
   "execution_count": 58,
   "id": "8a406ddb",
   "metadata": {},
   "outputs": [
    {
     "data": {
      "text/plain": [
       "[10, 20]"
      ]
     },
     "execution_count": 58,
     "metadata": {},
     "output_type": "execute_result"
    }
   ],
   "source": [
    "bosListe"
   ]
  },
  {
   "cell_type": "code",
   "execution_count": null,
   "id": "75e0db78",
   "metadata": {},
   "outputs": [],
   "source": []
  },
  {
   "cell_type": "code",
   "execution_count": 60,
   "id": "22bc1df1",
   "metadata": {},
   "outputs": [
    {
     "data": {
      "text/plain": [
       "dict"
      ]
     },
     "execution_count": 60,
     "metadata": {},
     "output_type": "execute_result"
    }
   ],
   "source": [
    "bos = {}         # Eğer bu şekilde tanımlanırsa her zaman sözlük oluşturur.\n",
    "type(bos)        # Set oluşturmak için set() şeklinde oluşturulabilir."
   ]
  },
  {
   "cell_type": "code",
   "execution_count": 61,
   "id": "6239dc70",
   "metadata": {},
   "outputs": [],
   "source": [
    "bosSet = set()"
   ]
  },
  {
   "cell_type": "code",
   "execution_count": 62,
   "id": "746b1dd4",
   "metadata": {},
   "outputs": [
    {
     "data": {
      "text/plain": [
       "set"
      ]
     },
     "execution_count": 62,
     "metadata": {},
     "output_type": "execute_result"
    }
   ],
   "source": [
    "type(bosSet)"
   ]
  },
  {
   "cell_type": "code",
   "execution_count": 64,
   "id": "e88d88e5",
   "metadata": {},
   "outputs": [
    {
     "data": {
      "text/plain": [
       "{10, 20}"
      ]
     },
     "execution_count": 64,
     "metadata": {},
     "output_type": "execute_result"
    }
   ],
   "source": [
    "bosSet.add(10)\n",
    "bosSet.add(10)\n",
    "bosSet.add(10)\n",
    "bosSet.add(20)\n",
    "bosSet"
   ]
  },
  {
   "cell_type": "code",
   "execution_count": 66,
   "id": "c0312105",
   "metadata": {},
   "outputs": [
    {
     "data": {
      "text/plain": [
       "list"
      ]
     },
     "execution_count": 66,
     "metadata": {},
     "output_type": "execute_result"
    }
   ],
   "source": [
    "digerList = list()       # Diğer koleksişyonlar içinde bu şekilde kullanılabilir.\n",
    "type(digerList)"
   ]
  },
  {
   "cell_type": "code",
   "execution_count": 67,
   "id": "33d00a20",
   "metadata": {},
   "outputs": [
    {
     "data": {
      "text/plain": [
       "[10]"
      ]
     },
     "execution_count": 67,
     "metadata": {},
     "output_type": "execute_result"
    }
   ],
   "source": [
    "digerList.append(10)\n",
    "digerList"
   ]
  },
  {
   "cell_type": "code",
   "execution_count": 68,
   "id": "f1e10521",
   "metadata": {},
   "outputs": [
    {
     "data": {
      "text/plain": [
       "{}"
      ]
     },
     "execution_count": 68,
     "metadata": {},
     "output_type": "execute_result"
    }
   ],
   "source": [
    "digerSozluk = dict()\n",
    "digerSozluk"
   ]
  },
  {
   "cell_type": "code",
   "execution_count": 69,
   "id": "f7a66456",
   "metadata": {},
   "outputs": [
    {
     "data": {
      "text/plain": [
       "{'anahtar': 'değer'}"
      ]
     },
     "execution_count": 69,
     "metadata": {},
     "output_type": "execute_result"
    }
   ],
   "source": [
    "digerSozluk[\"anahtar\"] = \"değer\"\n",
    "digerSozluk"
   ]
  },
  {
   "cell_type": "code",
   "execution_count": null,
   "id": "8cc85432",
   "metadata": {},
   "outputs": [],
   "source": []
  },
  {
   "cell_type": "markdown",
   "id": "3ffd1749",
   "metadata": {},
   "source": [
    "# Tuple(Demet)"
   ]
  },
  {
   "cell_type": "code",
   "execution_count": 70,
   "id": "8badd341",
   "metadata": {},
   "outputs": [],
   "source": [
    "myTuple = (1,2,\"c\",4.5)"
   ]
  },
  {
   "cell_type": "code",
   "execution_count": 71,
   "id": "77ca886c",
   "metadata": {},
   "outputs": [
    {
     "data": {
      "text/plain": [
       "tuple"
      ]
     },
     "execution_count": 71,
     "metadata": {},
     "output_type": "execute_result"
    }
   ],
   "source": [
    "type(myTuple)"
   ]
  },
  {
   "cell_type": "code",
   "execution_count": 73,
   "id": "ef3fb365",
   "metadata": {},
   "outputs": [
    {
     "data": {
      "text/plain": [
       "2"
      ]
     },
     "execution_count": 73,
     "metadata": {},
     "output_type": "execute_result"
    }
   ],
   "source": [
    "myTuple[1]"
   ]
  },
  {
   "cell_type": "code",
   "execution_count": 74,
   "id": "c6f72a32",
   "metadata": {},
   "outputs": [
    {
     "ename": "TypeError",
     "evalue": "'tuple' object does not support item assignment",
     "output_type": "error",
     "traceback": [
      "\u001b[1;31m---------------------------------------------------------------------------\u001b[0m",
      "\u001b[1;31mTypeError\u001b[0m                                 Traceback (most recent call last)",
      "\u001b[1;32m~\\AppData\\Local\\Temp/ipykernel_47740/4135858970.py\u001b[0m in \u001b[0;36m<module>\u001b[1;34m\u001b[0m\n\u001b[1;32m----> 1\u001b[1;33m \u001b[0mmyTuple\u001b[0m\u001b[1;33m[\u001b[0m\u001b[1;36m0\u001b[0m\u001b[1;33m]\u001b[0m\u001b[1;33m=\u001b[0m\u001b[1;36m100\u001b[0m\u001b[1;33m\u001b[0m\u001b[1;33m\u001b[0m\u001b[0m\n\u001b[0m",
      "\u001b[1;31mTypeError\u001b[0m: 'tuple' object does not support item assignment"
     ]
    }
   ],
   "source": [
    "myTuple[0]=100     # Elemanları değiştirelemez, eklenemez\n",
    "                   # Tanımlandıktan sonra değişmesini istemediğimiz yapılarda kullanılabilir.\n",
    "                    "
   ]
  },
  {
   "cell_type": "code",
   "execution_count": 75,
   "id": "ce6c02f4",
   "metadata": {},
   "outputs": [
    {
     "data": {
      "text/plain": [
       "[1, 2, 'c', 4.5]"
      ]
     },
     "execution_count": 75,
     "metadata": {},
     "output_type": "execute_result"
    }
   ],
   "source": [
    "benimListem = list(myTuple)\n",
    "benimListem"
   ]
  },
  {
   "cell_type": "code",
   "execution_count": 76,
   "id": "9e20a392",
   "metadata": {},
   "outputs": [
    {
     "data": {
      "text/plain": [
       "[100, 2, 'c', 4.5]"
      ]
     },
     "execution_count": 76,
     "metadata": {},
     "output_type": "execute_result"
    }
   ],
   "source": [
    "benimListem[0] = 100    # Listeye çevirip değiştirebiliriz.\n",
    "benimListem"
   ]
  }
 ],
 "metadata": {
  "kernelspec": {
   "display_name": "Python 3 (ipykernel)",
   "language": "python",
   "name": "python3"
  },
  "language_info": {
   "codemirror_mode": {
    "name": "ipython",
    "version": 3
   },
   "file_extension": ".py",
   "mimetype": "text/x-python",
   "name": "python",
   "nbconvert_exporter": "python",
   "pygments_lexer": "ipython3",
   "version": "3.9.7"
  }
 },
 "nbformat": 4,
 "nbformat_minor": 5
}
